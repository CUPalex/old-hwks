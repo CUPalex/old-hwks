{
 "cells": [
  {
   "cell_type": "markdown",
   "id": "079fefe8",
   "metadata": {},
   "source": [
    "## Downloading libraries"
   ]
  },
  {
   "cell_type": "code",
   "execution_count": null,
   "id": "2a0b0b80",
   "metadata": {},
   "outputs": [],
   "source": [
    "! pip install kaggle\n",
    "! sudo ln -s ~/.local/bin/kaggle /usr/bin/kaggle\n",
    "! sudo apt-get update && sudo apt-get install p7zip-full -y"
   ]
  },
  {
   "cell_type": "markdown",
   "id": "71ca009d",
   "metadata": {},
   "source": [
    "## Downloading and extracting data"
   ]
  },
  {
   "cell_type": "code",
   "execution_count": 21,
   "id": "4c852bfb",
   "metadata": {},
   "outputs": [
    {
     "name": "stdout",
     "output_type": "stream",
     "text": [
      "Downloading VisitsStream.tsv.7z to /home/ubuntu\n",
      "100%|█████████████████████████████████████▉| 1.98G/1.99G [00:41<00:00, 31.0MB/s]\n",
      "100%|██████████████████████████████████████| 1.99G/1.99G [00:42<00:00, 50.7MB/s]\n"
     ]
    }
   ],
   "source": [
    "! kaggle competitions download -c avito-context-ad-clicks -f VisitsStream.tsv.7z"
   ]
  },
  {
   "cell_type": "code",
   "execution_count": 24,
   "id": "0628374c",
   "metadata": {},
   "outputs": [
    {
     "name": "stdout",
     "output_type": "stream",
     "text": [
      "\n",
      "7-Zip [64] 16.02 : Copyright (c) 1999-2016 Igor Pavlov : 2016-05-21\n",
      "p7zip Version 16.02 (locale=en_US.UTF-8,Utf16=on,HugeFiles=on,64 bits,2 CPUs Intel Xeon Processor (Icelake) (606A0),ASM,AES-NI)\n",
      "\n",
      "Scanning the drive for archives:\n",
      "  0M Sca        1 file, 2132222657 bytes (2034 MiB)\n",
      "\n",
      "Extracting archive: VisitsStream.tsv.7z\n",
      "--\n",
      "Path = VisitsStream.tsv.7z\n",
      "Type = 7z\n",
      "Physical Size = 2132222657\n",
      "Headers Size = 136\n",
      "Method = LZMA:24\n",
      "Solid = -\n",
      "Blocks = 1\n",
      "\n",
      "      0% - VisitsStream.ts                        1% - VisitsStream.ts                        2% - VisitsStream.ts                        3% - VisitsStream.ts                        4% - VisitsStream.ts                        5% - VisitsStream.ts                        6% - VisitsStream.ts                        7% - VisitsStream.ts                        8% - VisitsStream.ts                        9% - VisitsStream.ts                       10% - VisitsStream.ts                       11% - VisitsStream.ts                       12% - VisitsStream.ts                       13% - VisitsStream.ts                       14% - VisitsStream.ts                       15% - VisitsStream.ts                       16% - VisitsStream.ts                       17% - VisitsStream.ts                       18% - VisitsStream.ts                       19% - VisitsStream.ts                       20% - VisitsStream.ts                       21% - VisitsStream.ts                       22% - VisitsStream.ts                       23% - VisitsStream.ts                       24% - VisitsStream.ts                       25% - VisitsStream.ts                       26% - VisitsStream.ts                       27% - VisitsStream.ts                       28% - VisitsStream.ts                       29% - VisitsStream.ts                       30% - VisitsStream.ts                       31% - VisitsStream.ts                       32% - VisitsStream.ts                       33% - VisitsStream.ts                       34% - VisitsStream.ts                       35% - VisitsStream.ts                       36% - VisitsStream.ts                       37% - VisitsStream.ts                       38% - VisitsStream.ts                       39% - VisitsStream.ts                       40% - VisitsStream.ts                       41% - VisitsStream.ts                       42% - VisitsStream.ts                       43% - VisitsStream.ts                       44% - VisitsStream.ts                       45% - VisitsStream.ts                       46% - VisitsStream.ts                       47% - VisitsStream.ts                       48% - VisitsStream.ts                       49% - VisitsStream.ts                       50% - VisitsStream.ts                       51% - VisitsStream.ts                       52% - VisitsStream.ts                       53% - VisitsStream.ts                       54% - VisitsStream.ts                       55% - VisitsStream.ts                       56% - VisitsStream.ts                       57% - VisitsStream.ts                       58% - VisitsStream.ts                       59% - VisitsStream.ts                       60% - VisitsStream.ts                       61% - VisitsStream.ts                       62% - VisitsStream.ts                       63% - VisitsStream.ts                       64% - VisitsStream.ts                       65% - VisitsStream.ts                       66% - VisitsStream.ts                       67% - VisitsStream.ts                       68% - VisitsStream.ts                       69% - VisitsStream.ts                       70% - VisitsStream.ts                       71% - VisitsStream.ts                       72% - VisitsStream.ts                       73% - VisitsStream.ts                       74% - VisitsStream.ts                       75% - VisitsStream.ts                       76% - VisitsStream.ts                       77% - VisitsStream.ts                       78% - VisitsStream.ts                       79% - VisitsStream.ts                       80% - VisitsStream.ts                       81% - VisitsStream.ts                       82% - VisitsStream.ts                       83% - VisitsStream.ts                       84% - VisitsStream.ts                       85% - VisitsStream.ts                       86% - VisitsStream.ts                       87% - VisitsStream.ts                       88% - VisitsStream.ts                       89% - VisitsStream.ts                       90% - VisitsStream.ts                       91% - VisitsStream.ts                       92% - VisitsStream.ts                       93% - VisitsStream.ts                       94% - VisitsStream.ts                       95% - VisitsStream.ts                       96% - VisitsStream.ts                       97% - VisitsStream.ts                       98% - VisitsStream.ts                       99% - VisitsStream.ts                      100%    Everything is Ok\n",
      "\n",
      "Size:       13180996392\n",
      "Compressed: 2132222657\n"
     ]
    }
   ],
   "source": [
    "! mkdir -p filefolder && 7z x VisitsStream.tsv.7z -ofilefolder/"
   ]
  },
  {
   "cell_type": "code",
   "execution_count": 25,
   "id": "1872e6a0",
   "metadata": {},
   "outputs": [
    {
     "name": "stdout",
     "output_type": "stream",
     "text": [
      "VisitsStream.tsv\r\n"
     ]
    }
   ],
   "source": [
    "! ls filefolder/"
   ]
  },
  {
   "cell_type": "markdown",
   "id": "8e61cc24",
   "metadata": {},
   "source": [
    "## Processing data"
   ]
  },
  {
   "cell_type": "code",
   "execution_count": 28,
   "id": "c077697e",
   "metadata": {},
   "outputs": [
    {
     "name": "stdout",
     "output_type": "stream",
     "text": [
      "UserID\tIPID\tAdID\tViewDate\r\n",
      "59703\t1259356\t469877\t2015-04-25 00:00:00.0\r\n",
      "154389\t1846749\t27252551\t2015-04-25 00:00:00.0\r\n",
      "218628\t2108380\t31685325\t2015-04-25 00:00:00.0\r\n",
      "231535\t837110\t18827716\t2015-04-25 00:00:00.0\r\n",
      "282306\t1654210\t29363673\t2015-04-25 00:00:00.0\r\n",
      "295068\t601505\t588324\t2015-04-25 00:00:00.0\r\n",
      "501897\t158476\t4103261\t2015-04-25 00:00:00.0\r\n",
      "655394\t631692\t9860544\t2015-04-25 00:00:00.0\r\n",
      "765603\t804403\t29475627\t2015-04-25 00:00:00.0\r\n",
      "cat: write error: Broken pipe\r\n"
     ]
    }
   ],
   "source": [
    "! cat filefolder/VisitsStream.tsv | head -n 10"
   ]
  },
  {
   "cell_type": "code",
   "execution_count": 45,
   "id": "5123e60c",
   "metadata": {},
   "outputs": [
    {
     "name": "stdout",
     "output_type": "stream",
     "text": [
      "cat: write error: Broken pipe\n",
      "sort: write failed: 'standard output': Broken pipe\n",
      "sort: write error\n"
     ]
    }
   ],
   "source": [
    "! cat filefolder/VisitsStream.tsv | head -n 1000001 | tail -n +2 | cut -f1 | sort | uniq -c | sort -k1,1 -n -r | head -n 10 > mhw1-output.txt"
   ]
  },
  {
   "cell_type": "code",
   "execution_count": 46,
   "id": "f7700d87",
   "metadata": {},
   "outputs": [
    {
     "name": "stdout",
     "output_type": "stream",
     "text": [
      "   2814 4285777\r\n",
      "   1657 769640\r\n",
      "    731 4325557\r\n",
      "    394 3210937\r\n",
      "    381 4263912\r\n",
      "    336 760745\r\n",
      "    334 3669654\r\n",
      "    323 350213\r\n",
      "    316 2356324\r\n",
      "    309 1192247\r\n"
     ]
    }
   ],
   "source": [
    "! cat mhw1-output.txt"
   ]
  },
  {
   "cell_type": "markdown",
   "id": "62e378af",
   "metadata": {},
   "source": [
    "## Uploading output data to object storage"
   ]
  },
  {
   "cell_type": "code",
   "execution_count": 47,
   "id": "285f5010",
   "metadata": {},
   "outputs": [
    {
     "name": "stdout",
     "output_type": "stream",
     "text": [
      "2023-01-23 09:14:17,836 INFO impl.MetricsConfig: Loaded properties from hadoop-metrics2.properties\n",
      "2023-01-23 09:14:18,191 INFO impl.MetricsSystemImpl: Scheduled Metric snapshot period at 10 second(s).\n",
      "2023-01-23 09:14:18,191 INFO impl.MetricsSystemImpl: s3a-file-system metrics system started\n",
      "2023-01-23 09:14:21,869 INFO impl.MetricsSystemImpl: Stopping s3a-file-system metrics system...\n",
      "2023-01-23 09:14:21,869 INFO impl.MetricsSystemImpl: s3a-file-system metrics system stopped.\n",
      "2023-01-23 09:14:21,870 INFO impl.MetricsSystemImpl: s3a-file-system metrics system shutdown complete.\n"
     ]
    }
   ],
   "source": [
    "! hdfs dfs -ls s3a://lsml-sasha-bakalova-data/"
   ]
  },
  {
   "cell_type": "code",
   "execution_count": 48,
   "id": "1b2544df",
   "metadata": {},
   "outputs": [
    {
     "name": "stdout",
     "output_type": "stream",
     "text": [
      "2023-01-23 09:16:26,750 INFO impl.MetricsConfig: Loaded properties from hadoop-metrics2.properties\n",
      "2023-01-23 09:16:26,834 INFO impl.MetricsSystemImpl: Scheduled Metric snapshot period at 10 second(s).\n",
      "2023-01-23 09:16:26,834 INFO impl.MetricsSystemImpl: s3a-file-system metrics system started\n",
      "2023-01-23 09:16:29,169 INFO impl.MetricsSystemImpl: Stopping s3a-file-system metrics system...\n",
      "2023-01-23 09:16:29,170 INFO impl.MetricsSystemImpl: s3a-file-system metrics system stopped.\n",
      "2023-01-23 09:16:29,170 INFO impl.MetricsSystemImpl: s3a-file-system metrics system shutdown complete.\n"
     ]
    }
   ],
   "source": [
    "! hdfs dfs -put mhw1-output.txt s3a://lsml-sasha-bakalova-data/mhw1-output.txt"
   ]
  },
  {
   "cell_type": "code",
   "execution_count": 49,
   "id": "7037c525",
   "metadata": {},
   "outputs": [
    {
     "name": "stdout",
     "output_type": "stream",
     "text": [
      "2023-01-23 09:16:32,299 INFO impl.MetricsConfig: Loaded properties from hadoop-metrics2.properties\n",
      "2023-01-23 09:16:32,381 INFO impl.MetricsSystemImpl: Scheduled Metric snapshot period at 10 second(s).\n",
      "2023-01-23 09:16:32,381 INFO impl.MetricsSystemImpl: s3a-file-system metrics system started\n",
      "Found 1 items\n",
      "-rw-rw-rw-   1 ubuntu ubuntu        157 2023-01-23 09:16 s3a://lsml-sasha-bakalova-data/mhw1-output.txt\n",
      "2023-01-23 09:16:34,108 INFO impl.MetricsSystemImpl: Stopping s3a-file-system metrics system...\n",
      "2023-01-23 09:16:34,109 INFO impl.MetricsSystemImpl: s3a-file-system metrics system stopped.\n",
      "2023-01-23 09:16:34,109 INFO impl.MetricsSystemImpl: s3a-file-system metrics system shutdown complete.\n"
     ]
    }
   ],
   "source": [
    "! hdfs dfs -ls s3a://lsml-sasha-bakalova-data/"
   ]
  },
  {
   "cell_type": "markdown",
   "id": "b2e6ecb3",
   "metadata": {},
   "source": [
    "## Link to object storage with data: [link](https://storage.yandexcloud.net/lsml-sasha-bakalova-data/mhw1-output.txt)"
   ]
  }
 ],
 "metadata": {
  "kernelspec": {
   "display_name": "Python 3",
   "language": "python",
   "name": "python3"
  },
  "language_info": {
   "codemirror_mode": {
    "name": "ipython",
    "version": 3
   },
   "file_extension": ".py",
   "mimetype": "text/x-python",
   "name": "python",
   "nbconvert_exporter": "python",
   "pygments_lexer": "ipython3",
   "version": "3.8.10"
  }
 },
 "nbformat": 4,
 "nbformat_minor": 5
}
