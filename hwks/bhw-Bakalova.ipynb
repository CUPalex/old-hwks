{
 "cells": [
  {
   "cell_type": "markdown",
   "id": "80c6f481",
   "metadata": {},
   "source": [
    "## Download data"
   ]
  },
  {
   "cell_type": "code",
   "execution_count": 1,
   "id": "b5d764e6",
   "metadata": {},
   "outputs": [
    {
     "name": "stdout",
     "output_type": "stream",
     "text": [
      "Collecting kaggle\n",
      "  Downloading kaggle-1.5.13.tar.gz (63 kB)\n",
      "\u001b[K     |████████████████████████████████| 63 kB 418 kB/s eta 0:00:011\n",
      "\u001b[?25hRequirement already satisfied, skipping upgrade: certifi in /usr/lib/python3/dist-packages (from kaggle) (2019.11.28)\n",
      "Requirement already satisfied, skipping upgrade: python-dateutil in ./.local/lib/python3.8/site-packages (from kaggle) (2.8.2)\n",
      "Requirement already satisfied, skipping upgrade: python-slugify in ./.local/lib/python3.8/site-packages (from kaggle) (8.0.0)\n",
      "Requirement already satisfied, skipping upgrade: requests in /usr/lib/python3/dist-packages (from kaggle) (2.22.0)\n",
      "Requirement already satisfied, skipping upgrade: six>=1.10 in /usr/lib/python3/dist-packages (from kaggle) (1.14.0)\n",
      "Requirement already satisfied, skipping upgrade: tqdm in ./.local/lib/python3.8/site-packages (from kaggle) (4.64.1)\n",
      "Requirement already satisfied, skipping upgrade: urllib3 in /usr/lib/python3/dist-packages (from kaggle) (1.25.8)\n",
      "Requirement already satisfied, skipping upgrade: text-unidecode>=1.3 in ./.local/lib/python3.8/site-packages (from python-slugify->kaggle) (1.3)\n",
      "Building wheels for collected packages: kaggle\n",
      "  Building wheel for kaggle (setup.py) ... \u001b[?25ldone\n",
      "\u001b[?25h  Created wheel for kaggle: filename=kaggle-1.5.13-py3-none-any.whl size=77720 sha256=36175839482ee46579344b17a25a1eeebcf94d10815a2f2ae16f86d91657041e\n",
      "  Stored in directory: /home/ubuntu/.cache/pip/wheels/e6/8e/67/e07554a720a493dc6b39b30488590ba92ed45448ad0134d253\n",
      "Successfully built kaggle\n",
      "Installing collected packages: kaggle\n",
      "  Attempting uninstall: kaggle\n",
      "    Found existing installation: kaggle 1.5.12\n",
      "    Uninstalling kaggle-1.5.12:\n",
      "      Successfully uninstalled kaggle-1.5.12\n",
      "\u001b[33m  WARNING: The script kaggle is installed in '/home/ubuntu/.local/bin' which is not on PATH.\n",
      "  Consider adding this directory to PATH or, if you prefer to suppress this warning, use --no-warn-script-location.\u001b[0m\n",
      "Successfully installed kaggle-1.5.13\n"
     ]
    }
   ],
   "source": [
    "! pip install -U kaggle"
   ]
  },
  {
   "cell_type": "code",
   "execution_count": 14,
   "id": "f8098f3b",
   "metadata": {},
   "outputs": [],
   "source": [
    "! chmod 600 /home/ubuntu/.kaggle/kaggle.json"
   ]
  },
  {
   "cell_type": "code",
   "execution_count": 15,
   "id": "54d2e2a8",
   "metadata": {},
   "outputs": [
    {
     "name": "stdout",
     "output_type": "stream",
     "text": [
      "Downloading events.csv.zip to /home/ubuntu\n",
      "100%|████████████████████████████████████████| 478M/478M [00:15<00:00, 31.8MB/s]\n",
      "100%|████████████████████████████████████████| 478M/478M [00:15<00:00, 31.4MB/s]\n",
      "Downloading documents_topics.csv.zip to /home/ubuntu\n",
      " 99%|███████████████████████████████████████▋| 120M/121M [00:04<00:00, 33.5MB/s]\n",
      "100%|████████████████████████████████████████| 121M/121M [00:04<00:00, 27.6MB/s]\n",
      "Downloading documents_meta.csv.zip to /home/ubuntu\n",
      " 97%|████████████████████████████████████▋ | 15.0M/15.5M [00:01<00:00, 21.7MB/s]\n",
      "100%|██████████████████████████████████████| 15.5M/15.5M [00:01<00:00, 12.5MB/s]\n",
      "Downloading page_views_sample.csv.zip to /home/ubuntu\n",
      "100%|███████████████████████████████████████▊| 148M/149M [00:05<00:00, 33.1MB/s]\n",
      "100%|████████████████████████████████████████| 149M/149M [00:05<00:00, 28.5MB/s]\n",
      "Downloading documents_entities.csv.zip to /home/ubuntu\n",
      " 98%|███████████████████████████████████████▏| 123M/126M [00:04<00:00, 33.4MB/s]\n",
      "100%|████████████████████████████████████████| 126M/126M [00:04<00:00, 27.1MB/s]\n",
      "Downloading page_views.csv.zip to /home/ubuntu\n",
      "100%|█████████████████████████████████████▉| 34.8G/34.8G [19:57<00:00, 32.5MB/s]\n",
      "100%|██████████████████████████████████████| 34.8G/34.8G [19:58<00:00, 31.2MB/s]\n",
      "Downloading promoted_content.csv.zip to /home/ubuntu\n",
      " 80%|██████████████████████████████▏       | 2.00M/2.52M [00:00<00:00, 2.98MB/s]\n",
      "100%|██████████████████████████████████████| 2.52M/2.52M [00:00<00:00, 3.13MB/s]\n",
      "Downloading clicks_test.csv.zip to /home/ubuntu\n",
      " 99%|███████████████████████████████████████▌| 134M/135M [00:05<00:00, 29.8MB/s]\n",
      "100%|████████████████████████████████████████| 135M/135M [00:05<00:00, 27.7MB/s]\n",
      "Downloading documents_categories.csv.zip to /home/ubuntu\n",
      " 99%|█████████████████████████████████████▌| 32.0M/32.3M [00:01<00:00, 31.0MB/s]\n",
      "100%|██████████████████████████████████████| 32.3M/32.3M [00:01<00:00, 18.7MB/s]\n",
      "Downloading clicks_train.csv.zip to /home/ubuntu\n",
      "100%|████████████████████████████████████████| 390M/390M [00:13<00:00, 31.2MB/s]\n",
      "100%|████████████████████████████████████████| 390M/390M [00:13<00:00, 30.6MB/s]\n",
      "Downloading sample_submission.csv.zip to /home/ubuntu\n",
      "100%|██████████████████████████████████████| 99.6M/99.6M [00:03<00:00, 33.1MB/s]\n",
      "100%|██████████████████████████████████████| 99.6M/99.6M [00:03<00:00, 26.6MB/s]\n"
     ]
    }
   ],
   "source": [
    "! for fname in $(kaggle competitions files outbrain-click-prediction -v | tail -n+2 | cut -d, -f1); do kaggle competitions download -c outbrain-click-prediction -f $fname; done"
   ]
  },
  {
   "cell_type": "code",
   "execution_count": 17,
   "id": "3a47d069",
   "metadata": {},
   "outputs": [
    {
     "name": "stdout",
     "output_type": "stream",
     "text": [
      "Archive:  clicks_test.csv.zip\n",
      "  inflating: clicks_test.csv         \n",
      "Archive:  clicks_train.csv.zip\n",
      "  inflating: clicks_train.csv        \n",
      "Archive:  documents_categories.csv.zip\n",
      "  inflating: documents_categories.csv  \n",
      "Archive:  documents_entities.csv.zip\n",
      "  inflating: documents_entities.csv  \n",
      "Archive:  documents_meta.csv.zip\n",
      "  inflating: documents_meta.csv      \n",
      "Archive:  documents_topics.csv.zip\n",
      "  inflating: documents_topics.csv    \n",
      "Archive:  events.csv.zip\n",
      "  inflating: events.csv              \n",
      "Archive:  page_views.csv.zip\n",
      "  inflating: page_views.csv          ^C\n",
      "Archive:  page_views_sample.csv.zip\n",
      "  inflating: page_views_sample.csv   \n",
      "Archive:  promoted_content.csv.zip\n",
      "  inflating: promoted_content.csv    \n"
     ]
    }
   ],
   "source": [
    "! unzip clicks_test.csv.zip\n",
    "! unzip clicks_train.csv.zip\n",
    "! unzip documents_categories.csv.zip\n",
    "! unzip documents_entities.csv.zip\n",
    "! unzip documents_meta.csv.zip\n",
    "! unzip documents_topics.csv.zip\n",
    "! unzip events.csv.zip\n",
    "! unzip page_views.csv.zip\n",
    "! unzip page_views_sample.csv.zip\n",
    "! unzip promoted_content.csv.zip"
   ]
  },
  {
   "cell_type": "code",
   "execution_count": 25,
   "id": "d2bb2aa2",
   "metadata": {},
   "outputs": [],
   "source": [
    "! hdfs dfs -put clicks_test.csv /user/hw/clicks_test.csv\n",
    "! hdfs dfs -put clicks_train.csv /user/hw/clicks_train.csv\n",
    "! hdfs dfs -put promoted_content.csv /user/hw/promoted_content.csv\n",
    "! hdfs dfs -put events.csv /user/hw/events.csv"
   ]
  },
  {
   "cell_type": "markdown",
   "id": "0574a270",
   "metadata": {},
   "source": [
    "## Preprocessing"
   ]
  },
  {
   "cell_type": "code",
   "execution_count": null,
   "id": "6ecd0d95",
   "metadata": {},
   "outputs": [],
   "source": [
    "import findspark\n",
    "findspark.init()\n",
    "\n",
    "import pyspark\n",
    "sc = pyspark.SparkContext(appName=\"lsml-hw-huge\")\n",
    "\n",
    "from pyspark.sql import SparkSession, Row\n",
    "se = SparkSession(sc)\n",
    "\n",
    "from pyspark.sql import functions as F"
   ]
  },
  {
   "cell_type": "code",
   "execution_count": 2,
   "id": "ad8e10df",
   "metadata": {},
   "outputs": [
    {
     "name": "stderr",
     "output_type": "stream",
     "text": [
      "[Stage 1:==============================================>           (8 + 2) / 10]\r"
     ]
    },
    {
     "name": "stdout",
     "output_type": "stream",
     "text": [
      "root\n",
      " |-- display_id: integer (nullable = true)\n",
      " |-- uuid: string (nullable = true)\n",
      " |-- document_id: integer (nullable = true)\n",
      " |-- timestamp: integer (nullable = true)\n",
      " |-- platform: string (nullable = true)\n",
      " |-- geo_location: string (nullable = true)\n",
      "\n"
     ]
    },
    {
     "name": "stderr",
     "output_type": "stream",
     "text": [
      "                                                                                \r"
     ]
    }
   ],
   "source": [
    "events = se.read.option(\"mode\", \"DROPMALFORMED\").option('sep', ',').csv(\"/user/hw/events.csv\", header=True, inferSchema=True)\n",
    "events.printSchema()"
   ]
  },
  {
   "cell_type": "code",
   "execution_count": 3,
   "id": "f745627d",
   "metadata": {},
   "outputs": [
    {
     "name": "stdout",
     "output_type": "stream",
     "text": [
      "root\n",
      " |-- ad_id: integer (nullable = true)\n",
      " |-- document_id: integer (nullable = true)\n",
      " |-- campaign_id: integer (nullable = true)\n",
      " |-- advertiser_id: integer (nullable = true)\n",
      "\n"
     ]
    },
    {
     "name": "stderr",
     "output_type": "stream",
     "text": [
      "                                                                                \r"
     ]
    }
   ],
   "source": [
    "promoted_content = se.read.option(\"mode\", \"DROPMALFORMED\").option('sep', ',').csv(\"/user/hw/promoted_content.csv\", header=True, inferSchema=True)\n",
    "promoted_content.printSchema()"
   ]
  },
  {
   "cell_type": "code",
   "execution_count": 4,
   "id": "ff422cd4",
   "metadata": {},
   "outputs": [
    {
     "name": "stderr",
     "output_type": "stream",
     "text": [
      "[Stage 5:===========================================>              (9 + 3) / 12]\r"
     ]
    },
    {
     "name": "stdout",
     "output_type": "stream",
     "text": [
      "root\n",
      " |-- display_id: integer (nullable = true)\n",
      " |-- ad_id: integer (nullable = true)\n",
      " |-- clicked: integer (nullable = true)\n",
      "\n"
     ]
    },
    {
     "name": "stderr",
     "output_type": "stream",
     "text": [
      "                                                                                \r"
     ]
    }
   ],
   "source": [
    "clicks_train = se.read.option(\"mode\", \"DROPMALFORMED\").option('sep', ',').csv(\"/user/hw/clicks_train.csv\", header=True, inferSchema=True)\n",
    "clicks_train.printSchema()"
   ]
  },
  {
   "cell_type": "code",
   "execution_count": 5,
   "id": "1562f89b",
   "metadata": {},
   "outputs": [
    {
     "name": "stderr",
     "output_type": "stream",
     "text": [
      "[Stage 7:=======================================>                   (4 + 2) / 6]\r"
     ]
    },
    {
     "name": "stdout",
     "output_type": "stream",
     "text": [
      "root\n",
      " |-- display_id: integer (nullable = true)\n",
      " |-- ad_id: integer (nullable = true)\n",
      "\n"
     ]
    },
    {
     "name": "stderr",
     "output_type": "stream",
     "text": [
      "                                                                                \r"
     ]
    }
   ],
   "source": [
    "clicks_test = se.read.option(\"mode\", \"DROPMALFORMED\").option('sep', ',').csv(\"/user/hw/clicks_test.csv\", header=True, inferSchema=True)\n",
    "clicks_test.printSchema()"
   ]
  },
  {
   "cell_type": "code",
   "execution_count": 7,
   "id": "a6c1934c",
   "metadata": {},
   "outputs": [
    {
     "name": "stdout",
     "output_type": "stream",
     "text": [
      "root\n",
      " |-- display_id: integer (nullable = true)\n",
      " |-- uuid: string (nullable = true)\n",
      " |-- document_id: integer (nullable = true)\n",
      " |-- timestamp: integer (nullable = true)\n",
      " |-- platform: string (nullable = true)\n",
      " |-- geo_location: string (nullable = true)\n",
      " |-- country: string (nullable = true)\n",
      " |-- state: string (nullable = true)\n",
      " |-- dma: string (nullable = true)\n",
      "\n"
     ]
    }
   ],
   "source": [
    "split_col = F.split(events['geo_location'], '>')\n",
    "events = events.withColumn('country', split_col.getItem(0))\n",
    "events = events.withColumn('state', split_col.getItem(1))\n",
    "events = events.withColumn('dma', split_col.getItem(2))\n",
    "events.printSchema()"
   ]
  },
  {
   "cell_type": "code",
   "execution_count": 40,
   "id": "e4e97146",
   "metadata": {},
   "outputs": [],
   "source": [
    "! hdfs dfs -mkdir -p /user/hw/parquet"
   ]
  },
  {
   "cell_type": "code",
   "execution_count": 10,
   "id": "1c7faa0a",
   "metadata": {},
   "outputs": [
    {
     "name": "stderr",
     "output_type": "stream",
     "text": [
      "                                                                                \r"
     ]
    }
   ],
   "source": [
    "clicks_test.write.parquet(\"/user/hw/parquet/clicks_test.parquet\")\n",
    "clicks_train.write.parquet(\"/user/hw/parquet/clicks_train.parquet\")\n",
    "promoted_content.write.parquet(\"/user/hw/parquet/promoted_content.parquet\")\n",
    "events.write.parquet(\"/user/hw/parquet/events.parquet\")"
   ]
  },
  {
   "cell_type": "code",
   "execution_count": 12,
   "id": "b89e7e6e",
   "metadata": {},
   "outputs": [],
   "source": [
    "clicks_test_parquet = se.read.parquet(\"/user/hw/parquet/clicks_test.parquet\")\n",
    "clicks_train_parquet = se.read.parquet(\"/user/hw/parquet/clicks_train.parquet\")\n",
    "promoted_content_parquet = se.read.parquet(\"/user/hw/parquet/promoted_content.parquet\")\n",
    "events_parquet = se.read.parquet(\"/user/hw/parquet/events.parquet\")"
   ]
  },
  {
   "cell_type": "code",
   "execution_count": 13,
   "id": "ddf615ad",
   "metadata": {},
   "outputs": [
    {
     "name": "stderr",
     "output_type": "stream",
     "text": [
      "2023-03-20 09:23:01,664 WARN sql.Column: Constructing trivially true equals predicate, ''display_id = 'display_id'. Perhaps you need to use aliases.\n"
     ]
    }
   ],
   "source": [
    "bias = events_parquet.select('display_id', F.when(F.col('display_id') == F.col('display_id'), 1).alias('bias'))\n",
    "bias.registerTempTable(\"bias\")"
   ]
  },
  {
   "cell_type": "code",
   "execution_count": 14,
   "id": "da9ed93f",
   "metadata": {},
   "outputs": [],
   "source": [
    "dataset = clicks_train.withColumnRenamed('clicked','target')\\\n",
    "                 .join(promoted_content.withColumnRenamed('ad_id','promoted_ad_id').withColumnRenamed('document_id','promoted_document_id'), F.col('ad_id') == F.col('promoted_ad_id'))\\\n",
    "                 .join(events.withColumnRenamed('display_id', 'events_display_id'), F.col('display_id') == F.col('events_display_id'))\\\n",
    "                 .join(bias.withColumnRenamed('display_id', 'bias_display_id'), F.col('display_id') == F.col('bias_display_id'))"
   ]
  },
  {
   "cell_type": "code",
   "execution_count": 15,
   "id": "d0910411",
   "metadata": {},
   "outputs": [
    {
     "name": "stderr",
     "output_type": "stream",
     "text": [
      "                                                                                \r"
     ]
    },
    {
     "data": {
      "text/plain": [
       "(87141731, 87141731)"
      ]
     },
     "execution_count": 15,
     "metadata": {},
     "output_type": "execute_result"
    }
   ],
   "source": [
    "dataset.count(), clicks_train.count()"
   ]
  },
  {
   "cell_type": "code",
   "execution_count": 16,
   "id": "307fe067",
   "metadata": {},
   "outputs": [],
   "source": [
    "dataset = dataset.select(\"target\", \"ad_id\", \"promoted_document_id\", \"campaign_id\", \"advertiser_id\", \"document_id\", \"platform\",\n",
    "                        \"geo_location\", \"country\", \"state\", \"dma\")"
   ]
  },
  {
   "cell_type": "code",
   "execution_count": 17,
   "id": "2a8810b3",
   "metadata": {},
   "outputs": [
    {
     "name": "stderr",
     "output_type": "stream",
     "text": [
      "                                                                                \r"
     ]
    },
    {
     "data": {
      "text/html": [
       "<div>\n",
       "<style scoped>\n",
       "    .dataframe tbody tr th:only-of-type {\n",
       "        vertical-align: middle;\n",
       "    }\n",
       "\n",
       "    .dataframe tbody tr th {\n",
       "        vertical-align: top;\n",
       "    }\n",
       "\n",
       "    .dataframe thead th {\n",
       "        text-align: right;\n",
       "    }\n",
       "</style>\n",
       "<table border=\"1\" class=\"dataframe\">\n",
       "  <thead>\n",
       "    <tr style=\"text-align: right;\">\n",
       "      <th></th>\n",
       "      <th>target</th>\n",
       "      <th>ad_id</th>\n",
       "      <th>promoted_document_id</th>\n",
       "      <th>campaign_id</th>\n",
       "      <th>advertiser_id</th>\n",
       "      <th>document_id</th>\n",
       "      <th>platform</th>\n",
       "      <th>geo_location</th>\n",
       "      <th>country</th>\n",
       "      <th>state</th>\n",
       "      <th>dma</th>\n",
       "    </tr>\n",
       "  </thead>\n",
       "  <tbody>\n",
       "    <tr>\n",
       "      <th>0</th>\n",
       "      <td>0</td>\n",
       "      <td>152140</td>\n",
       "      <td>1060089</td>\n",
       "      <td>19032</td>\n",
       "      <td>1593</td>\n",
       "      <td>1205772</td>\n",
       "      <td>2</td>\n",
       "      <td>US&gt;LA&gt;612</td>\n",
       "      <td>US</td>\n",
       "      <td>LA</td>\n",
       "      <td>612</td>\n",
       "    </tr>\n",
       "    <tr>\n",
       "      <th>1</th>\n",
       "      <td>0</td>\n",
       "      <td>152656</td>\n",
       "      <td>1086755</td>\n",
       "      <td>10511</td>\n",
       "      <td>2151</td>\n",
       "      <td>1205772</td>\n",
       "      <td>2</td>\n",
       "      <td>US&gt;LA&gt;612</td>\n",
       "      <td>US</td>\n",
       "      <td>LA</td>\n",
       "      <td>612</td>\n",
       "    </tr>\n",
       "    <tr>\n",
       "      <th>2</th>\n",
       "      <td>0</td>\n",
       "      <td>326768</td>\n",
       "      <td>1379561</td>\n",
       "      <td>23374</td>\n",
       "      <td>2348</td>\n",
       "      <td>1205772</td>\n",
       "      <td>2</td>\n",
       "      <td>US&gt;LA&gt;612</td>\n",
       "      <td>US</td>\n",
       "      <td>LA</td>\n",
       "      <td>612</td>\n",
       "    </tr>\n",
       "    <tr>\n",
       "      <th>3</th>\n",
       "      <td>1</td>\n",
       "      <td>89351</td>\n",
       "      <td>990613</td>\n",
       "      <td>7617</td>\n",
       "      <td>2181</td>\n",
       "      <td>1205772</td>\n",
       "      <td>2</td>\n",
       "      <td>US&gt;LA&gt;612</td>\n",
       "      <td>US</td>\n",
       "      <td>LA</td>\n",
       "      <td>612</td>\n",
       "    </tr>\n",
       "    <tr>\n",
       "      <th>4</th>\n",
       "      <td>0</td>\n",
       "      <td>327114</td>\n",
       "      <td>1163344</td>\n",
       "      <td>24078</td>\n",
       "      <td>1570</td>\n",
       "      <td>1787133</td>\n",
       "      <td>1</td>\n",
       "      <td>US&gt;SD&gt;764</td>\n",
       "      <td>US</td>\n",
       "      <td>SD</td>\n",
       "      <td>764</td>\n",
       "    </tr>\n",
       "    <tr>\n",
       "      <th>5</th>\n",
       "      <td>0</td>\n",
       "      <td>327054</td>\n",
       "      <td>1086095</td>\n",
       "      <td>24079</td>\n",
       "      <td>1570</td>\n",
       "      <td>1787133</td>\n",
       "      <td>1</td>\n",
       "      <td>US&gt;SD&gt;764</td>\n",
       "      <td>US</td>\n",
       "      <td>SD</td>\n",
       "      <td>764</td>\n",
       "    </tr>\n",
       "    <tr>\n",
       "      <th>6</th>\n",
       "      <td>0</td>\n",
       "      <td>104911</td>\n",
       "      <td>1158823</td>\n",
       "      <td>13576</td>\n",
       "      <td>2028</td>\n",
       "      <td>1787133</td>\n",
       "      <td>1</td>\n",
       "      <td>US&gt;SD&gt;764</td>\n",
       "      <td>US</td>\n",
       "      <td>SD</td>\n",
       "      <td>764</td>\n",
       "    </tr>\n",
       "    <tr>\n",
       "      <th>7</th>\n",
       "      <td>1</td>\n",
       "      <td>38813</td>\n",
       "      <td>910765</td>\n",
       "      <td>5499</td>\n",
       "      <td>1419</td>\n",
       "      <td>1787133</td>\n",
       "      <td>1</td>\n",
       "      <td>US&gt;SD&gt;764</td>\n",
       "      <td>US</td>\n",
       "      <td>SD</td>\n",
       "      <td>764</td>\n",
       "    </tr>\n",
       "    <tr>\n",
       "      <th>8</th>\n",
       "      <td>0</td>\n",
       "      <td>28270</td>\n",
       "      <td>845272</td>\n",
       "      <td>4346</td>\n",
       "      <td>1913</td>\n",
       "      <td>1787133</td>\n",
       "      <td>1</td>\n",
       "      <td>US&gt;SD&gt;764</td>\n",
       "      <td>US</td>\n",
       "      <td>SD</td>\n",
       "      <td>764</td>\n",
       "    </tr>\n",
       "    <tr>\n",
       "      <th>9</th>\n",
       "      <td>0</td>\n",
       "      <td>187292</td>\n",
       "      <td>1116986</td>\n",
       "      <td>15430</td>\n",
       "      <td>769</td>\n",
       "      <td>1787133</td>\n",
       "      <td>1</td>\n",
       "      <td>US&gt;SD&gt;764</td>\n",
       "      <td>US</td>\n",
       "      <td>SD</td>\n",
       "      <td>764</td>\n",
       "    </tr>\n",
       "  </tbody>\n",
       "</table>\n",
       "</div>"
      ],
      "text/plain": [
       "   target   ad_id  promoted_document_id  campaign_id  advertiser_id  \\\n",
       "0       0  152140               1060089        19032           1593   \n",
       "1       0  152656               1086755        10511           2151   \n",
       "2       0  326768               1379561        23374           2348   \n",
       "3       1   89351                990613         7617           2181   \n",
       "4       0  327114               1163344        24078           1570   \n",
       "5       0  327054               1086095        24079           1570   \n",
       "6       0  104911               1158823        13576           2028   \n",
       "7       1   38813                910765         5499           1419   \n",
       "8       0   28270                845272         4346           1913   \n",
       "9       0  187292               1116986        15430            769   \n",
       "\n",
       "   document_id platform geo_location country state  dma  \n",
       "0      1205772        2    US>LA>612      US    LA  612  \n",
       "1      1205772        2    US>LA>612      US    LA  612  \n",
       "2      1205772        2    US>LA>612      US    LA  612  \n",
       "3      1205772        2    US>LA>612      US    LA  612  \n",
       "4      1787133        1    US>SD>764      US    SD  764  \n",
       "5      1787133        1    US>SD>764      US    SD  764  \n",
       "6      1787133        1    US>SD>764      US    SD  764  \n",
       "7      1787133        1    US>SD>764      US    SD  764  \n",
       "8      1787133        1    US>SD>764      US    SD  764  \n",
       "9      1787133        1    US>SD>764      US    SD  764  "
      ]
     },
     "execution_count": 17,
     "metadata": {},
     "output_type": "execute_result"
    }
   ],
   "source": [
    "dataset.limit(10).toPandas()"
   ]
  },
  {
   "cell_type": "code",
   "execution_count": 18,
   "id": "122b9de6",
   "metadata": {},
   "outputs": [
    {
     "name": "stdout",
     "output_type": "stream",
     "text": [
      "Deleted /user/hw/parquet/dataset.parquet\r\n"
     ]
    }
   ],
   "source": [
    "! hdfs dfs -rm -r /user/hw/parquet/dataset.parquet"
   ]
  },
  {
   "cell_type": "code",
   "execution_count": 19,
   "id": "86597ecf",
   "metadata": {},
   "outputs": [
    {
     "name": "stderr",
     "output_type": "stream",
     "text": [
      "                                                                                \r"
     ]
    }
   ],
   "source": [
    "dataset.write.parquet(\"/user/hw/parquet/dataset.parquet\")"
   ]
  },
  {
   "cell_type": "markdown",
   "id": "d578ab1f",
   "metadata": {},
   "source": [
    "### Now the same with test dataset"
   ]
  },
  {
   "cell_type": "code",
   "execution_count": 20,
   "id": "41158d3a",
   "metadata": {},
   "outputs": [],
   "source": [
    "dataset_test = clicks_test_parquet\\\n",
    "                 .join(promoted_content_parquet.withColumnRenamed('ad_id','promoted_ad_id').withColumnRenamed('document_id','promoted_document_id'), F.col('ad_id') == F.col('promoted_ad_id'))\\\n",
    "                 .join(events_parquet.withColumnRenamed('display_id', 'events_display_id'), F.col('display_id') == F.col('events_display_id'))\\\n",
    "                 .join(bias.withColumnRenamed('display_id', 'bias_display_id'), F.col('display_id') == F.col('bias_display_id'))"
   ]
  },
  {
   "cell_type": "code",
   "execution_count": 21,
   "id": "1a778deb",
   "metadata": {},
   "outputs": [
    {
     "name": "stderr",
     "output_type": "stream",
     "text": [
      "                                                                                \r"
     ]
    },
    {
     "data": {
      "text/plain": [
       "(32225162, 32225162)"
      ]
     },
     "execution_count": 21,
     "metadata": {},
     "output_type": "execute_result"
    }
   ],
   "source": [
    "clicks_test_parquet.count(), dataset_test.count()"
   ]
  },
  {
   "cell_type": "code",
   "execution_count": 22,
   "id": "9606bd04",
   "metadata": {},
   "outputs": [],
   "source": [
    "dataset_test = dataset_test.select(\"display_id\", \"ad_id\", \"promoted_document_id\", \"campaign_id\", \"advertiser_id\", \"document_id\", \"platform\",\n",
    "                        \"geo_location\", \"country\", \"state\", \"dma\")"
   ]
  },
  {
   "cell_type": "code",
   "execution_count": 23,
   "id": "e6558e9a",
   "metadata": {},
   "outputs": [
    {
     "name": "stderr",
     "output_type": "stream",
     "text": [
      "                                                                                \r"
     ]
    },
    {
     "data": {
      "text/html": [
       "<div>\n",
       "<style scoped>\n",
       "    .dataframe tbody tr th:only-of-type {\n",
       "        vertical-align: middle;\n",
       "    }\n",
       "\n",
       "    .dataframe tbody tr th {\n",
       "        vertical-align: top;\n",
       "    }\n",
       "\n",
       "    .dataframe thead th {\n",
       "        text-align: right;\n",
       "    }\n",
       "</style>\n",
       "<table border=\"1\" class=\"dataframe\">\n",
       "  <thead>\n",
       "    <tr style=\"text-align: right;\">\n",
       "      <th></th>\n",
       "      <th>display_id</th>\n",
       "      <th>ad_id</th>\n",
       "      <th>promoted_document_id</th>\n",
       "      <th>campaign_id</th>\n",
       "      <th>advertiser_id</th>\n",
       "      <th>document_id</th>\n",
       "      <th>platform</th>\n",
       "      <th>geo_location</th>\n",
       "      <th>country</th>\n",
       "      <th>state</th>\n",
       "      <th>dma</th>\n",
       "    </tr>\n",
       "  </thead>\n",
       "  <tbody>\n",
       "    <tr>\n",
       "      <th>0</th>\n",
       "      <td>16874807</td>\n",
       "      <td>137006</td>\n",
       "      <td>916403</td>\n",
       "      <td>17587</td>\n",
       "      <td>859</td>\n",
       "      <td>399863</td>\n",
       "      <td>2</td>\n",
       "      <td>AU&gt;02</td>\n",
       "      <td>AU</td>\n",
       "      <td>02</td>\n",
       "      <td>None</td>\n",
       "    </tr>\n",
       "    <tr>\n",
       "      <th>1</th>\n",
       "      <td>16874807</td>\n",
       "      <td>192759</td>\n",
       "      <td>1469601</td>\n",
       "      <td>22742</td>\n",
       "      <td>1975</td>\n",
       "      <td>399863</td>\n",
       "      <td>2</td>\n",
       "      <td>AU&gt;02</td>\n",
       "      <td>AU</td>\n",
       "      <td>02</td>\n",
       "      <td>None</td>\n",
       "    </tr>\n",
       "    <tr>\n",
       "      <th>2</th>\n",
       "      <td>16874807</td>\n",
       "      <td>192855</td>\n",
       "      <td>1460834</td>\n",
       "      <td>22748</td>\n",
       "      <td>622</td>\n",
       "      <td>399863</td>\n",
       "      <td>2</td>\n",
       "      <td>AU&gt;02</td>\n",
       "      <td>AU</td>\n",
       "      <td>02</td>\n",
       "      <td>None</td>\n",
       "    </tr>\n",
       "    <tr>\n",
       "      <th>3</th>\n",
       "      <td>16874807</td>\n",
       "      <td>213769</td>\n",
       "      <td>903092</td>\n",
       "      <td>23770</td>\n",
       "      <td>712</td>\n",
       "      <td>399863</td>\n",
       "      <td>2</td>\n",
       "      <td>AU&gt;02</td>\n",
       "      <td>AU</td>\n",
       "      <td>02</td>\n",
       "      <td>None</td>\n",
       "    </tr>\n",
       "    <tr>\n",
       "      <th>4</th>\n",
       "      <td>16874827</td>\n",
       "      <td>64762</td>\n",
       "      <td>942527</td>\n",
       "      <td>5118</td>\n",
       "      <td>1107</td>\n",
       "      <td>1754388</td>\n",
       "      <td>1</td>\n",
       "      <td>US&gt;CA&gt;803</td>\n",
       "      <td>US</td>\n",
       "      <td>CA</td>\n",
       "      <td>803</td>\n",
       "    </tr>\n",
       "    <tr>\n",
       "      <th>5</th>\n",
       "      <td>16874827</td>\n",
       "      <td>137842</td>\n",
       "      <td>1314063</td>\n",
       "      <td>5118</td>\n",
       "      <td>1107</td>\n",
       "      <td>1754388</td>\n",
       "      <td>1</td>\n",
       "      <td>US&gt;CA&gt;803</td>\n",
       "      <td>US</td>\n",
       "      <td>CA</td>\n",
       "      <td>803</td>\n",
       "    </tr>\n",
       "    <tr>\n",
       "      <th>6</th>\n",
       "      <td>16874827</td>\n",
       "      <td>144741</td>\n",
       "      <td>1337362</td>\n",
       "      <td>18488</td>\n",
       "      <td>2909</td>\n",
       "      <td>1754388</td>\n",
       "      <td>1</td>\n",
       "      <td>US&gt;CA&gt;803</td>\n",
       "      <td>US</td>\n",
       "      <td>CA</td>\n",
       "      <td>803</td>\n",
       "    </tr>\n",
       "    <tr>\n",
       "      <th>7</th>\n",
       "      <td>16874827</td>\n",
       "      <td>235104</td>\n",
       "      <td>1587377</td>\n",
       "      <td>25526</td>\n",
       "      <td>2407</td>\n",
       "      <td>1754388</td>\n",
       "      <td>1</td>\n",
       "      <td>US&gt;CA&gt;803</td>\n",
       "      <td>US</td>\n",
       "      <td>CA</td>\n",
       "      <td>803</td>\n",
       "    </tr>\n",
       "    <tr>\n",
       "      <th>8</th>\n",
       "      <td>16874827</td>\n",
       "      <td>257524</td>\n",
       "      <td>1556282</td>\n",
       "      <td>26491</td>\n",
       "      <td>3190</td>\n",
       "      <td>1754388</td>\n",
       "      <td>1</td>\n",
       "      <td>US&gt;CA&gt;803</td>\n",
       "      <td>US</td>\n",
       "      <td>CA</td>\n",
       "      <td>803</td>\n",
       "    </tr>\n",
       "    <tr>\n",
       "      <th>9</th>\n",
       "      <td>16874838</td>\n",
       "      <td>37887</td>\n",
       "      <td>902375</td>\n",
       "      <td>5336</td>\n",
       "      <td>53</td>\n",
       "      <td>1777395</td>\n",
       "      <td>2</td>\n",
       "      <td>US&gt;CA&gt;803</td>\n",
       "      <td>US</td>\n",
       "      <td>CA</td>\n",
       "      <td>803</td>\n",
       "    </tr>\n",
       "  </tbody>\n",
       "</table>\n",
       "</div>"
      ],
      "text/plain": [
       "   display_id   ad_id  promoted_document_id  campaign_id  advertiser_id  \\\n",
       "0    16874807  137006                916403        17587            859   \n",
       "1    16874807  192759               1469601        22742           1975   \n",
       "2    16874807  192855               1460834        22748            622   \n",
       "3    16874807  213769                903092        23770            712   \n",
       "4    16874827   64762                942527         5118           1107   \n",
       "5    16874827  137842               1314063         5118           1107   \n",
       "6    16874827  144741               1337362        18488           2909   \n",
       "7    16874827  235104               1587377        25526           2407   \n",
       "8    16874827  257524               1556282        26491           3190   \n",
       "9    16874838   37887                902375         5336             53   \n",
       "\n",
       "   document_id platform geo_location country state   dma  \n",
       "0       399863        2        AU>02      AU    02  None  \n",
       "1       399863        2        AU>02      AU    02  None  \n",
       "2       399863        2        AU>02      AU    02  None  \n",
       "3       399863        2        AU>02      AU    02  None  \n",
       "4      1754388        1    US>CA>803      US    CA   803  \n",
       "5      1754388        1    US>CA>803      US    CA   803  \n",
       "6      1754388        1    US>CA>803      US    CA   803  \n",
       "7      1754388        1    US>CA>803      US    CA   803  \n",
       "8      1754388        1    US>CA>803      US    CA   803  \n",
       "9      1777395        2    US>CA>803      US    CA   803  "
      ]
     },
     "execution_count": 23,
     "metadata": {},
     "output_type": "execute_result"
    }
   ],
   "source": [
    "dataset_test.limit(10).toPandas()"
   ]
  },
  {
   "cell_type": "code",
   "execution_count": 25,
   "id": "9d5bb7f7",
   "metadata": {},
   "outputs": [
    {
     "name": "stderr",
     "output_type": "stream",
     "text": [
      "                                                                                \r"
     ]
    }
   ],
   "source": [
    "dataset_test.rdd.map(lambda data : data[\"display_id\"]).saveAsTextFile('/user/hw/test_display_ids.txt')\n",
    "dataset_test.rdd.map(lambda data : data[\"ad_id\"]).saveAsTextFile('/user/hw/test_ad_ids.txt')"
   ]
  },
  {
   "cell_type": "code",
   "execution_count": 26,
   "id": "4415a7f4",
   "metadata": {},
   "outputs": [],
   "source": [
    "! hdfs dfs -cat /user/hw/test_ad_ids.txt/* > test_ad_ids.txt\n",
    "! hdfs dfs -cat /user/hw/test_display_ids.txt/* > test_display_ids.txt"
   ]
  },
  {
   "cell_type": "code",
   "execution_count": 28,
   "id": "47624dae",
   "metadata": {},
   "outputs": [
    {
     "name": "stderr",
     "output_type": "stream",
     "text": [
      "                                                                                \r"
     ]
    }
   ],
   "source": [
    "dataset_test.write.parquet(\"/user/hw/parquet/dataset_test.parquet\")"
   ]
  },
  {
   "cell_type": "markdown",
   "id": "cdebd324",
   "metadata": {},
   "source": [
    "## Vowpal Wabbit"
   ]
  },
  {
   "cell_type": "code",
   "execution_count": 2,
   "id": "2a2e457c",
   "metadata": {},
   "outputs": [
    {
     "name": "stderr",
     "output_type": "stream",
     "text": [
      "                                                                                \r"
     ]
    }
   ],
   "source": [
    "dataset = se.read.parquet(\"/user/hw/parquet/dataset.parquet\")\n",
    "dataset_test = se.read.parquet(\"/user/hw/parquet/dataset_test.parquet\")"
   ]
  },
  {
   "cell_type": "code",
   "execution_count": 30,
   "id": "5a16f1d4",
   "metadata": {},
   "outputs": [],
   "source": [
    "features = [\"ad_id\", \"promoted_document_id\", \"campaign_id\", \"advertiser_id\", \"document_id\", \"platform\",\n",
    "                        \"geo_location\", \"country\", \"state\", \"dma\"]\n",
    "intractions_features = ['promo_document_id', 'campaign_id', 'advertiser_id', 'document_id', 'platform', 'country', 'state']\n",
    "single_features = ['ad_id', 'campaign_id', 'advertiser_id', 'document_id', 'platform', 'geo_location', 'country', 'state', 'dma']\n",
    "\n",
    "def convert_to_vw(data):\n",
    "    template = \"{target} |adid {ad_id} |i {promoted_document_id} |m {campaign_id} |v {advertiser_id} |d {document_id} \" + \\\n",
    "                \"|p {platform} |geo {geo_location} |c {country} |s {state} |dma {dma} |bias 1\"\n",
    "    return template.format(\n",
    "        target=2 * data[\"target\"] - 1 if \"target\" in data else 1,\n",
    "        ad_id=data[\"ad_id\"],\n",
    "        promoted_document_id=data[\"promoted_document_id\"],\n",
    "        campaign_id=data[\"campaign_id\"],\n",
    "        advertiser_id=data[\"advertiser_id\"],\n",
    "        document_id=data[\"document_id\"],\n",
    "        platform=data[\"platform\"],\n",
    "        geo_location=data[\"geo_location\"],\n",
    "        country=data[\"country\"] if data[\"country\"] is not None else \"None\",\n",
    "        state=data[\"state\"] if data[\"state\"] is not None else \"None\",\n",
    "        dma=data[\"dma\"] if data[\"dma\"] is not None else \"None\"\n",
    "    )"
   ]
  },
  {
   "cell_type": "code",
   "execution_count": 39,
   "id": "0e004670",
   "metadata": {},
   "outputs": [],
   "source": [
    "# for testing only\n",
    "\n",
    "\"\"\"\n",
    "train, val = (\n",
    "    dataset\n",
    "    .randomSplit([0.8, 0.2], 422)\n",
    ")\n",
    "\n",
    "train.rdd.map(convert_to_vw).saveAsTextFile('/user/hw/train.vw')\n",
    "val.rdd.map(convert_to_vw).saveAsTextFile('/user/hw/val.vw')\n",
    "\n",
    "! hdfs dfs -cat /user/hw/val.vw/* > val.dataset.vw\n",
    "! hdfs dfs -cat /user/hw/train.vw/* > train.dataset.vw\n",
    "\n",
    "from sklearn.metrics import roc_auc_score\n",
    "import numpy as np\n",
    "\n",
    "def calc_auc(predictions_filename, answers_filename):\n",
    "    def read_target_from_vw(vw_record):\n",
    "        return float(vw_record.split(' ')[0])\n",
    "    \n",
    "    with open(predictions_filename, 'r') as f:\n",
    "        y_pred = np.array([float(value) for value in f.readlines()])\n",
    "        \n",
    "    with open(answers_filename, 'r') as f:\n",
    "        y_expected = np.array([read_target_from_vw(value) for value in f.readlines()])\n",
    "        \n",
    "    return roc_auc_score(y_expected, y_pred), y_expected, y_pred\n",
    "\"\"\""
   ]
  },
  {
   "cell_type": "code",
   "execution_count": 33,
   "id": "1daeaa18",
   "metadata": {},
   "outputs": [
    {
     "name": "stderr",
     "output_type": "stream",
     "text": [
      "                                                                                \r"
     ]
    }
   ],
   "source": [
    "dataset.rdd.map(convert_to_vw).saveAsTextFile('/user/hw/dataset.vw')\n",
    "dataset_test.rdd.map(convert_to_vw).saveAsTextFile('/user/hw/dataset_test.vw')"
   ]
  },
  {
   "cell_type": "code",
   "execution_count": 34,
   "id": "59e77f0e",
   "metadata": {},
   "outputs": [],
   "source": [
    "! hdfs dfs -cat /user/hw/dataset.vw/* > dataset.dataset.vw\n",
    "! hdfs dfs -cat /user/hw/dataset_test.vw/* > dataset_test.dataset.vw"
   ]
  },
  {
   "cell_type": "code",
   "execution_count": 3,
   "id": "a0b4e4b8",
   "metadata": {},
   "outputs": [
    {
     "name": "stdout",
     "output_type": "stream",
     "text": [
      "creating features for following interactions: mi vi vm di dm dv pi pm pv pd ci cm cv cd cp si sm sv sd sp sc \n",
      "final_regressor = clicks.model.bin\n",
      "Enabling FTRL based optimization\n",
      "Algorithm used: Proximal-FTRL\n",
      "ftrl_alpha = 0.05\n",
      "ftrl_beta = 0.5\n",
      "Num weight bits = 25\n",
      "learning rate = 20\n",
      "initial_t = 0\n",
      "power_t = 0.5\n",
      "decay_learning_rate = 1\n",
      "creating cache_file = dataset.dataset.vw.cache\n",
      "Reading datafile = dataset.dataset.vw\n",
      "num sources = 1\n",
      "average  since         example        example  current  current  current\n",
      "loss     last          counter         weight    label  predict features\n",
      "0.693147 0.693147            1            1.0  -1.0000   0.0000       39\n",
      "0.598102 0.503057            2            2.0  -1.0000  -0.4250       39\n",
      "0.717245 0.836387            4            4.0   1.0000  -0.9491       39\n",
      "0.582983 0.448722            8            8.0  -1.0000  -1.1185       39\n",
      "0.598541 0.614099           16           16.0   1.0000  -0.8806       39\n",
      "0.648239 0.697937           32           32.0   1.0000  -0.8975       39\n",
      "0.611659 0.575080           64           64.0  -1.0000  -1.1951       39\n",
      "0.589811 0.567962          128          128.0  -1.0000  -0.9628       39\n",
      "0.547588 0.505365          256          256.0  -1.0000  -1.0358       39\n",
      "0.551405 0.555222          512          512.0   1.0000  -1.1371       39\n",
      "0.534616 0.517826         1024         1024.0   1.0000  -1.6702       39\n",
      "0.527316 0.520016         2048         2048.0  -1.0000  -1.2518       39\n",
      "0.524485 0.521654         4096         4096.0   1.0000  -0.9406       39\n",
      "0.512384 0.500283         8192         8192.0  -1.0000  -1.5574       39\n",
      "0.495790 0.479196        16384        16384.0  -1.0000  -1.4730       39\n",
      "0.484344 0.472898        32768        32768.0  -1.0000  -1.2845       39\n",
      "0.475992 0.467640        65536        65536.0   1.0000  -2.6714       39\n",
      "0.470939 0.465886       131072       131072.0  -1.0000  -1.0808       39\n",
      "0.465155 0.459370       262144       262144.0  -1.0000  -0.9307       39\n",
      "0.461407 0.457660       524288       524288.0   1.0000  -1.8205       39\n",
      "0.456607 0.451806      1048576      1048576.0  -1.0000  -1.1829       39\n",
      "0.452049 0.447492      2097152      2097152.0  -1.0000  -0.0650       39\n",
      "0.448077 0.444105      4194304      4194304.0  -1.0000  -2.7181       39\n",
      "0.443802 0.439527      8388608      8388608.0   1.0000  -1.6023       39\n",
      "0.439653 0.435504     16777216     16777216.0  -1.0000  -1.9361       39\n",
      "0.435726 0.431800     33554432     33554432.0  -1.0000  -1.4219       39\n",
      "0.432096 0.428466     67108864     67108864.0  -1.0000  -2.1504       39\n",
      "0.431682 0.431682    134217728    134217728.0  -1.0000  -0.1559       39 h\n",
      "0.432033 0.432383    268435456    268435456.0  -1.0000  -3.5202       39 h\n",
      "\n",
      "finished run\n",
      "number of examples per pass = 78427558\n",
      "passes used = 5\n",
      "weighted example sum = 392137790.000000\n",
      "weighted label sum = -240279470.000000\n",
      "average loss = 0.430653 h\n",
      "best constant = -1.426602\n",
      "best constant's loss = 0.491442\n",
      "total feature number = 15293373810\n"
     ]
    }
   ],
   "source": [
    "! vw --final_regressor clicks.model.bin dataset.dataset.vw \\\n",
    "    --loss_function logistic \\\n",
    "    --learning_rate 20.0 \\\n",
    "    --bit_precision 25 \\\n",
    "    --ftrl \\\n",
    "    --ftrl_alpha 0.05 \\\n",
    "    --ftrl_beta 0.5 \\\n",
    "    --passes 5 \\\n",
    "    --interactions mi vi vm di dm dv pi pm pv pd ci cm cv cd cp si sm sv sd sp sc  \\\n",
    "    --cache -k"
   ]
  },
  {
   "cell_type": "code",
   "execution_count": 4,
   "id": "a3a24c1f",
   "metadata": {
    "scrolled": true
   },
   "outputs": [
    {
     "name": "stdout",
     "output_type": "stream",
     "text": [
      "creating features for following interactions: mi vi vm di dm dv pi pm pv pd ci cm cv cd cp si sm sv sd sp sc \n",
      "only testing\n",
      "predictions = predictions.txt\n",
      "Enabling FTRL based optimization\n",
      "Algorithm used: Proximal-FTRL\n",
      "ftrl_alpha = 0.005\n",
      "ftrl_beta = 0.1\n",
      "Num weight bits = 25\n",
      "learning rate = 0.5\n",
      "initial_t = 0\n",
      "power_t = 0.5\n",
      "using no cache\n",
      "Reading datafile = dataset_test.dataset.vw\n",
      "num sources = 1\n",
      "average  since         example        example  current  current  current\n",
      "loss     last          counter         weight    label  predict features\n",
      "3.491227 3.491227            1            1.0   1.0000   0.2956       39\n",
      "6.627709 9.764192            2            2.0   1.0000   0.1067       39\n",
      "5.417385 4.207061            4            4.0   1.0000   0.3084       39\n",
      "5.086299 4.755214            8            8.0   1.0000   0.1918       39\n",
      "5.442446 5.798592           16           16.0   1.0000   0.2730       39\n",
      "6.531701 7.620955           32           32.0   1.0000   0.0361       39\n",
      "6.812025 7.092350           64           64.0   1.0000   0.1101       39\n",
      "8.442056 10.072086          128          128.0   1.0000   0.8493       39\n",
      "8.209481 7.976906          256          256.0   1.0000   0.0378       39\n",
      "8.330219 8.450956          512          512.0   1.0000   0.2802       39\n",
      "7.941706 7.553193         1024         1024.0   1.0000   0.2300       39\n",
      "8.381966 8.822227         2048         2048.0   1.0000   0.0832       39\n",
      "8.638730 8.895493         4096         4096.0   1.0000   0.1467       39\n",
      "8.501508 8.364286         8192         8192.0   1.0000   0.1185       39\n",
      "8.672841 8.844174        16384        16384.0   1.0000   0.1254       39\n",
      "8.621374 8.569907        32768        32768.0   1.0000   0.0689       39\n",
      "8.704659 8.787943        65536        65536.0   1.0000   0.0821       39\n",
      "8.429490 8.154322       131072       131072.0   1.0000   0.1957       39\n",
      "8.391904 8.354317       262144       262144.0   1.0000   0.0408       39\n",
      "8.336949 8.281993       524288       524288.0   1.0000   0.0923       39\n",
      "8.329033 8.321118      1048576      1048576.0   1.0000   0.0456       39\n",
      "8.297329 8.265624      2097152      2097152.0   1.0000   0.7077       39\n",
      "8.299228 8.301128      4194304      4194304.0   1.0000   0.2504       39\n",
      "8.297810 8.296392      8388608      8388608.0   1.0000   0.0362       39\n",
      "8.298020 8.298229     16777216     16777216.0   1.0000   0.4604       39\n",
      "\n",
      "finished run\n",
      "number of examples = 32225162\n",
      "weighted example sum = 32225162.000000\n",
      "weighted label sum = 32225162.000000\n",
      "average loss = 8.296905\n",
      "best constant = 1.000000\n",
      "best constant's loss = 0.000000\n",
      "total feature number = 1256781318\n"
     ]
    }
   ],
   "source": [
    "! vw --link=logistic --testonly --initial_regressor clicks.model.bin --predictions predictions.txt dataset_test.dataset.vw"
   ]
  },
  {
   "cell_type": "markdown",
   "id": "1125730f",
   "metadata": {},
   "source": [
    "## Creating submission"
   ]
  },
  {
   "cell_type": "code",
   "execution_count": 5,
   "id": "d98ddecb",
   "metadata": {},
   "outputs": [],
   "source": [
    "import numpy as np\n",
    "with open(\"predictions.txt\", \"r\") as f:\n",
    "    preds = np.array([float(value) for value in f.readlines()])\n",
    "    \n",
    "with open(\"test_display_ids.txt\", \"r\") as f:\n",
    "    display_ids = np.array([float(value) for value in f.readlines()])\n",
    "    \n",
    "with open(\"test_ad_ids.txt\", \"r\") as f:\n",
    "    ad_ids = np.array([float(value) for value in f.readlines()])"
   ]
  },
  {
   "cell_type": "code",
   "execution_count": 6,
   "id": "87951ddf",
   "metadata": {},
   "outputs": [
    {
     "data": {
      "text/plain": [
       "(32225162, 32225162, 32225162)"
      ]
     },
     "execution_count": 6,
     "metadata": {},
     "output_type": "execute_result"
    }
   ],
   "source": [
    "len(preds), len(display_ids), len(ad_ids)"
   ]
  },
  {
   "cell_type": "code",
   "execution_count": 7,
   "id": "0f9cf0df",
   "metadata": {},
   "outputs": [],
   "source": [
    "with open(\"file.csv\", \"w\") as file:\n",
    "    file.write(\"display_id, pred, ad_id\\n\")\n",
    "    for display_id, pred, ad_id in zip(display_ids, preds, ad_ids):\n",
    "        file.write(f\"{int(display_id)}, {float(pred)}, {int(ad_id)}\\n\")"
   ]
  },
  {
   "cell_type": "code",
   "execution_count": 8,
   "id": "cf6d3d3f",
   "metadata": {},
   "outputs": [
    {
     "name": "stdout",
     "output_type": "stream",
     "text": [
      "display_id, pred, ad_id\r\n",
      "16874807, 0.29557, 137006\r\n",
      "16874807, 0.106712, 192759\r\n",
      "16874807, 0.219518, 192855\r\n",
      "16874807, 0.30836, 213769\r\n",
      "16874827, 0.200124, 64762\r\n",
      "16874827, 0.29954, 137842\r\n",
      "16874827, 0.27073, 144741\r\n",
      "16874827, 0.191794, 235104\r\n",
      "16874827, 0.118335, 257524\r\n",
      "cat: write error: Broken pipe\r\n"
     ]
    }
   ],
   "source": [
    "! cat file.csv | head"
   ]
  },
  {
   "cell_type": "code",
   "execution_count": 9,
   "id": "9e23a98f",
   "metadata": {},
   "outputs": [
    {
     "name": "stdout",
     "output_type": "stream",
     "text": [
      "Deleted /user/hw/file.csv\r\n"
     ]
    }
   ],
   "source": [
    "! hdfs dfs -rm /user/hw/file.csv\n",
    "! hdfs dfs -put file.csv /user/hw/file.csv"
   ]
  },
  {
   "cell_type": "code",
   "execution_count": 10,
   "id": "c5184c0b",
   "metadata": {},
   "outputs": [
    {
     "name": "stderr",
     "output_type": "stream",
     "text": [
      "[Stage 1:==========================================>                (5 + 2) / 7]\r"
     ]
    },
    {
     "name": "stdout",
     "output_type": "stream",
     "text": [
      "root\n",
      " |-- display_id: integer (nullable = true)\n",
      " |--  pred: double (nullable = true)\n",
      " |--  ad_id: double (nullable = true)\n",
      "\n"
     ]
    },
    {
     "name": "stderr",
     "output_type": "stream",
     "text": [
      "                                                                                \r"
     ]
    }
   ],
   "source": [
    "results = se.read.option(\"mode\", \"DROPMALFORMED\").option('sep', ',').csv(\"/user/hw/file.csv\", header=True, inferSchema=True)\n",
    "results.printSchema()"
   ]
  },
  {
   "cell_type": "code",
   "execution_count": 11,
   "id": "75bff7e7",
   "metadata": {},
   "outputs": [],
   "source": [
    "from pyspark.sql.functions import concat_ws, collect_list, sort_array\n",
    "\n",
    "result_grouped = results.groupBy(\"display_id\")\\\n",
    ".agg(concat_ws(\" \",collect_list(\" ad_id\")), concat_ws(\" \",collect_list(\" pred\")))\\\n",
    ".withColumnRenamed(\"concat_ws( , collect_list( ad_id))\", \"ad_ids\")\\\n",
    ".withColumnRenamed(\"concat_ws( , collect_list( pred))\", \"preds\")"
   ]
  },
  {
   "cell_type": "code",
   "execution_count": 12,
   "id": "b92f6f7f",
   "metadata": {},
   "outputs": [
    {
     "name": "stderr",
     "output_type": "stream",
     "text": [
      "                                                                                \r"
     ]
    },
    {
     "data": {
      "text/html": [
       "<div>\n",
       "<style scoped>\n",
       "    .dataframe tbody tr th:only-of-type {\n",
       "        vertical-align: middle;\n",
       "    }\n",
       "\n",
       "    .dataframe tbody tr th {\n",
       "        vertical-align: top;\n",
       "    }\n",
       "\n",
       "    .dataframe thead th {\n",
       "        text-align: right;\n",
       "    }\n",
       "</style>\n",
       "<table border=\"1\" class=\"dataframe\">\n",
       "  <thead>\n",
       "    <tr style=\"text-align: right;\">\n",
       "      <th></th>\n",
       "      <th>display_id</th>\n",
       "      <th>ad_ids</th>\n",
       "      <th>preds</th>\n",
       "    </tr>\n",
       "  </thead>\n",
       "  <tbody>\n",
       "    <tr>\n",
       "      <th>0</th>\n",
       "      <td>16874807</td>\n",
       "      <td>137006.0 192759.0 192855.0 213769.0</td>\n",
       "      <td>0.29557 0.106712 0.219518 0.30836</td>\n",
       "    </tr>\n",
       "    <tr>\n",
       "      <th>1</th>\n",
       "      <td>16874827</td>\n",
       "      <td>64762.0 137842.0 144741.0 235104.0 257524.0</td>\n",
       "      <td>0.200124 0.29954 0.27073 0.191794 0.118335</td>\n",
       "    </tr>\n",
       "    <tr>\n",
       "      <th>2</th>\n",
       "      <td>16874838</td>\n",
       "      <td>37887.0 117307.0 123702.0 160448.0</td>\n",
       "      <td>0.052857 0.460366 0.616522 0.188245</td>\n",
       "    </tr>\n",
       "    <tr>\n",
       "      <th>3</th>\n",
       "      <td>16874919</td>\n",
       "      <td>3784.0 117198.0 132295.0 137126.0</td>\n",
       "      <td>0.157441 0.296545 0.272952 0.041438</td>\n",
       "    </tr>\n",
       "    <tr>\n",
       "      <th>4</th>\n",
       "      <td>16875012</td>\n",
       "      <td>35050.0 188159.0 329206.0</td>\n",
       "      <td>0.372571 0.606732 0.054005</td>\n",
       "    </tr>\n",
       "    <tr>\n",
       "      <th>5</th>\n",
       "      <td>16875103</td>\n",
       "      <td>25289.0 155815.0 177182.0 182327.0</td>\n",
       "      <td>0.414187 0.162168 0.259767 0.298201</td>\n",
       "    </tr>\n",
       "    <tr>\n",
       "      <th>6</th>\n",
       "      <td>16875308</td>\n",
       "      <td>37884.0 45119.0 145935.0 173400.0 198151.0</td>\n",
       "      <td>0.07554 0.080141 0.235029 0.176036 0.229033</td>\n",
       "    </tr>\n",
       "    <tr>\n",
       "      <th>7</th>\n",
       "      <td>16875934</td>\n",
       "      <td>18049.0 67315.0 80647.0 95806.0 322994.0 328479.0</td>\n",
       "      <td>0.201616 0.173561 0.036126 0.035097 0.246326 0...</td>\n",
       "    </tr>\n",
       "    <tr>\n",
       "      <th>8</th>\n",
       "      <td>16876076</td>\n",
       "      <td>9892.0 123107.0 169971.0 285991.0</td>\n",
       "      <td>0.128377 0.276175 0.149687 0.191994</td>\n",
       "    </tr>\n",
       "    <tr>\n",
       "      <th>9</th>\n",
       "      <td>16876389</td>\n",
       "      <td>60620.0 81655.0 103754.0 216308.0</td>\n",
       "      <td>0.148395 0.069755 0.070206 0.182414</td>\n",
       "    </tr>\n",
       "  </tbody>\n",
       "</table>\n",
       "</div>"
      ],
      "text/plain": [
       "   display_id                                             ad_ids  \\\n",
       "0    16874807                137006.0 192759.0 192855.0 213769.0   \n",
       "1    16874827        64762.0 137842.0 144741.0 235104.0 257524.0   \n",
       "2    16874838                 37887.0 117307.0 123702.0 160448.0   \n",
       "3    16874919                  3784.0 117198.0 132295.0 137126.0   \n",
       "4    16875012                          35050.0 188159.0 329206.0   \n",
       "5    16875103                 25289.0 155815.0 177182.0 182327.0   \n",
       "6    16875308         37884.0 45119.0 145935.0 173400.0 198151.0   \n",
       "7    16875934  18049.0 67315.0 80647.0 95806.0 322994.0 328479.0   \n",
       "8    16876076                  9892.0 123107.0 169971.0 285991.0   \n",
       "9    16876389                  60620.0 81655.0 103754.0 216308.0   \n",
       "\n",
       "                                               preds  \n",
       "0                  0.29557 0.106712 0.219518 0.30836  \n",
       "1         0.200124 0.29954 0.27073 0.191794 0.118335  \n",
       "2                0.052857 0.460366 0.616522 0.188245  \n",
       "3                0.157441 0.296545 0.272952 0.041438  \n",
       "4                         0.372571 0.606732 0.054005  \n",
       "5                0.414187 0.162168 0.259767 0.298201  \n",
       "6        0.07554 0.080141 0.235029 0.176036 0.229033  \n",
       "7  0.201616 0.173561 0.036126 0.035097 0.246326 0...  \n",
       "8                0.128377 0.276175 0.149687 0.191994  \n",
       "9                0.148395 0.069755 0.070206 0.182414  "
      ]
     },
     "execution_count": 12,
     "metadata": {},
     "output_type": "execute_result"
    }
   ],
   "source": [
    "result_grouped.limit(10).toPandas()"
   ]
  },
  {
   "cell_type": "code",
   "execution_count": 13,
   "id": "82ae84fb",
   "metadata": {},
   "outputs": [],
   "source": [
    "def process(data):\n",
    "    ad_ids = map(int, map(float, data[\"ad_ids\"].split()))\n",
    "    preds = map(float, data[\"preds\"].split())\n",
    "    to_sort = [(-p, ad_id) for p, ad_id in zip(preds, ad_ids)]\n",
    "    to_sort.sort()\n",
    "    ad_ids_sorted = [ad_id for _, ad_id in to_sort]\n",
    "    new_data = {}\n",
    "    new_data[\"display_id\"] = data[\"display_id\"]\n",
    "    new_data[\"ad_id\"] = \" \".join(map(str, ad_ids_sorted))\n",
    "    return new_data\n",
    "\n",
    "result_grouped_processed = result_grouped.rdd.map(process)"
   ]
  },
  {
   "cell_type": "code",
   "execution_count": 14,
   "id": "07519301",
   "metadata": {},
   "outputs": [
    {
     "name": "stderr",
     "output_type": "stream",
     "text": [
      "/usr/lib/spark/python/pyspark/sql/session.py:401: UserWarning: Using RDD of dict to inferSchema is deprecated. Use pyspark.sql.Row instead\n",
      "  warnings.warn(\"Using RDD of dict to inferSchema is deprecated. \"\n",
      "                                                                                \r"
     ]
    }
   ],
   "source": [
    "result_grouped_processed.toDF([\"ad_id\", \"display_id\"]).toPandas().to_csv(\"subm2.csv\", index=None)"
   ]
  },
  {
   "cell_type": "code",
   "execution_count": 15,
   "id": "29ddae56",
   "metadata": {},
   "outputs": [
    {
     "name": "stdout",
     "output_type": "stream",
     "text": [
      "100%|████████████████████████████████████████| 260M/260M [00:09<00:00, 28.1MB/s]\n",
      "Successfully submitted to Outbrain Click Prediction"
     ]
    }
   ],
   "source": [
    "! kaggle competitions submit -c outbrain-click-prediction -f subm2.csv -m \"second\""
   ]
  },
  {
   "attachments": {
    "image.png": {
     "image/png": "[encoded data removed]"
    }
   },
   "cell_type": "markdown",
   "id": "6a7db6c5",
   "metadata": {},
   "source": [
    "## Submission\n",
    "score: 0.65454\n",
    "![image.png](attachment:image.png)"
   ]
  }
 ],
 "metadata": {
  "kernelspec": {
   "display_name": "Python 3 (ipykernel)",
   "language": "python",
   "name": "python3"
  },
  "language_info": {
   "codemirror_mode": {
    "name": "ipython",
    "version": 3
   },
   "file_extension": ".py",
   "mimetype": "text/x-python",
   "name": "python",
   "nbconvert_exporter": "python",
   "pygments_lexer": "ipython3",
   "version": "3.8.10"
  }
 },
 "nbformat": 4,
 "nbformat_minor": 5
}
