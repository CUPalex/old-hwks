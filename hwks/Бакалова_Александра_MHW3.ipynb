{
 "cells": [
  {
   "cell_type": "markdown",
   "id": "640aac2d",
   "metadata": {},
   "source": [
    "# Part 1\n",
    "Data is already in hdfs, we will use it"
   ]
  },
  {
   "cell_type": "code",
   "execution_count": 1,
   "id": "ff298527",
   "metadata": {},
   "outputs": [
    {
     "name": "stdout",
     "output_type": "stream",
     "text": [
      "Found 7 items\r\n",
      "-rw-r--r--   1 ubuntu hadoop  3214004224 2023-03-02 19:23 /user/hw2/data/AdsInfo.tsv\r\n",
      "-rw-r--r--   1 ubuntu hadoop  9469373867 2023-02-11 12:57 /user/hw2/data/SearchInfo.tsv\r\n",
      "-rw-r--r--   1 ubuntu hadoop   104614699 2023-02-13 10:30 /user/hw2/data/UserInfo.tsv\r\n",
      "-rw-r--r--   1 ubuntu hadoop     1413261 2023-03-03 10:01 /user/hw2/data/test_AdsInfo.tsv\r\n",
      "-rw-r--r--   1 ubuntu hadoop      807058 2023-03-03 10:01 /user/hw2/data/test_SearchInfo.tsv\r\n",
      "-rw-r--r--   1 ubuntu hadoop      237259 2023-03-03 10:01 /user/hw2/data/test_trainSearchStream.tsv\r\n",
      "-rw-r--r--   1 ubuntu hadoop 11023566785 2023-02-11 22:54 /user/hw2/data/trainSearchStream.tsv\r\n"
     ]
    }
   ],
   "source": [
    "! hdfs dfs -ls /user/hw2/data"
   ]
  },
  {
   "cell_type": "code",
   "execution_count": 11,
   "id": "4466a5be",
   "metadata": {},
   "outputs": [
    {
     "name": "stderr",
     "output_type": "stream",
     "text": [
      "SLF4J: Class path contains multiple SLF4J bindings.\n",
      "SLF4J: Found binding in [jar:file:/usr/lib/spark/jars/slf4j-log4j12-1.7.30.jar!/org/slf4j/impl/StaticLoggerBinder.class]\n",
      "SLF4J: Found binding in [jar:file:/usr/lib/hadoop/lib/slf4j-log4j12-1.7.25.jar!/org/slf4j/impl/StaticLoggerBinder.class]\n",
      "SLF4J: See http://www.slf4j.org/codes.html#multiple_bindings for an explanation.\n",
      "SLF4J: Actual binding is of type [org.slf4j.impl.Log4jLoggerFactory]\n",
      "Setting default log level to \"WARN\".\n",
      "To adjust logging level use sc.setLogLevel(newLevel). For SparkR, use setLogLevel(newLevel).\n",
      "2023-03-04 19:09:44,963 WARN util.Utils: spark.executor.instances less than spark.dynamicAllocation.minExecutors is invalid, ignoring its setting, please update your configs.\n",
      "2023-03-04 19:09:57,700 WARN util.Utils: spark.executor.instances less than spark.dynamicAllocation.minExecutors is invalid, ignoring its setting, please update your configs.\n",
      "2023-03-04 19:09:57,720 WARN cluster.YarnSchedulerBackend$YarnSchedulerEndpoint: Attempted to request executors before the AM has registered!\n"
     ]
    }
   ],
   "source": [
    "import pandas as pd\n",
    "pd.set_option('display.max_columns', 500)\n",
    "\n",
    "import findspark\n",
    "findspark.init()\n",
    "\n",
    "import pyspark\n",
    "sc = pyspark.SparkContext(appName=\"lsml-mhw-3\")\n",
    "\n",
    "from pyspark.sql import SparkSession, Row\n",
    "from pyspark.sql import functions as F\n",
    "se = SparkSession(sc)"
   ]
  },
  {
   "cell_type": "code",
   "execution_count": 5,
   "id": "35c58028",
   "metadata": {},
   "outputs": [
    {
     "name": "stderr",
     "output_type": "stream",
     "text": [
      "                                                                                \r"
     ]
    },
    {
     "name": "stdout",
     "output_type": "stream",
     "text": [
      "root\n",
      " |-- SearchID: integer (nullable = true)\n",
      " |-- AdID: integer (nullable = true)\n",
      " |-- Position: integer (nullable = true)\n",
      " |-- ObjectType: integer (nullable = true)\n",
      " |-- HistCTR: double (nullable = true)\n",
      " |-- IsClick: integer (nullable = true)\n",
      "\n"
     ]
    },
    {
     "name": "stderr",
     "output_type": "stream",
     "text": [
      "                                                                                \r"
     ]
    },
    {
     "name": "stdout",
     "output_type": "stream",
     "text": [
      "root\n",
      " |-- SearchID: integer (nullable = true)\n",
      " |-- SearchDate: string (nullable = true)\n",
      " |-- IPID: integer (nullable = true)\n",
      " |-- UserID: integer (nullable = true)\n",
      " |-- IsUserLoggedOn: integer (nullable = true)\n",
      " |-- SearchQuery: string (nullable = true)\n",
      " |-- LocationID: integer (nullable = true)\n",
      " |-- CategoryID: integer (nullable = true)\n",
      " |-- SearchParams: string (nullable = true)\n",
      "\n"
     ]
    },
    {
     "name": "stderr",
     "output_type": "stream",
     "text": [
      "[Stage 5:======================================================>  (23 + 1) / 24]\r"
     ]
    },
    {
     "name": "stdout",
     "output_type": "stream",
     "text": [
      "root\n",
      " |-- AdID: integer (nullable = true)\n",
      " |-- LocationID: integer (nullable = true)\n",
      " |-- CategoryID: integer (nullable = true)\n",
      " |-- Params: string (nullable = true)\n",
      " |-- Price: double (nullable = true)\n",
      " |-- Title: string (nullable = true)\n",
      " |-- IsContext: integer (nullable = true)\n",
      "\n"
     ]
    },
    {
     "name": "stderr",
     "output_type": "stream",
     "text": [
      "                                                                                \r"
     ]
    }
   ],
   "source": [
    "data = se.read.option(\"mode\", \"DROPMALFORMED\").option('sep', '\\t').csv(\"/user/hw2/data/trainSearchStream.tsv\", header=True, inferSchema=True)\n",
    "data.printSchema()\n",
    "\n",
    "searchinfo = se.read.option(\"mode\", \"DROPMALFORMED\").option('sep', '\\t').csv(\"/user/hw2/data/SearchInfo.tsv\", header=True, inferSchema=True)\n",
    "searchinfo.printSchema()\n",
    "\n",
    "adsinfo = se.read.option(\"mode\", \"DROPMALFORMED\").option('sep', '\\t').csv(\"/user/hw2/data/AdsInfo.tsv\", header=True, inferSchema=True)\n",
    "adsinfo.printSchema()"
   ]
  },
  {
   "cell_type": "code",
   "execution_count": 6,
   "id": "eefa62a4",
   "metadata": {},
   "outputs": [
    {
     "name": "stdout",
     "output_type": "stream",
     "text": [
      "Deleted /user/hw2/parquet\r\n"
     ]
    },
    {
     "name": "stderr",
     "output_type": "stream",
     "text": [
      "                                                                                \r"
     ]
    },
    {
     "name": "stdout",
     "output_type": "stream",
     "text": [
      "root\n",
      " |-- SearchID: integer (nullable = true)\n",
      " |-- AdID: integer (nullable = true)\n",
      " |-- Position: integer (nullable = true)\n",
      " |-- ObjectType: integer (nullable = true)\n",
      " |-- HistCTR: double (nullable = true)\n",
      " |-- IsClick: integer (nullable = true)\n",
      "\n"
     ]
    },
    {
     "name": "stderr",
     "output_type": "stream",
     "text": [
      "                                                                                \r"
     ]
    },
    {
     "name": "stdout",
     "output_type": "stream",
     "text": [
      "root\n",
      " |-- AdID: integer (nullable = true)\n",
      " |-- LocationID: integer (nullable = true)\n",
      " |-- CategoryID: integer (nullable = true)\n",
      " |-- Params: string (nullable = true)\n",
      " |-- Price: double (nullable = true)\n",
      " |-- Title: string (nullable = true)\n",
      " |-- IsContext: integer (nullable = true)\n",
      "\n"
     ]
    },
    {
     "name": "stderr",
     "output_type": "stream",
     "text": [
      "                                                                                \r"
     ]
    },
    {
     "name": "stdout",
     "output_type": "stream",
     "text": [
      "root\n",
      " |-- SearchID: integer (nullable = true)\n",
      " |-- SearchDate: string (nullable = true)\n",
      " |-- IPID: integer (nullable = true)\n",
      " |-- UserID: integer (nullable = true)\n",
      " |-- IsUserLoggedOn: integer (nullable = true)\n",
      " |-- SearchQuery: string (nullable = true)\n",
      " |-- LocationID: integer (nullable = true)\n",
      " |-- CategoryID: integer (nullable = true)\n",
      " |-- SearchParams: string (nullable = true)\n",
      "\n"
     ]
    }
   ],
   "source": [
    "! hdfs dfs -rm -r /user/hw2/parquet\n",
    "! hdfs dfs -mkdir -p /user/hw2/parquet\n",
    "\n",
    "data.write.parquet(\"/user/hw2/parquet/data.parquet\")\n",
    "data_parquet = se.read.parquet(\"/user/hw2/parquet/data.parquet\")\n",
    "data_parquet.printSchema()\n",
    "data = data_parquet\n",
    "\n",
    "adsinfo.write.parquet(\"/user/hw2/parquet/adsinfo.parquet\")\n",
    "adsinfo_parquet = se.read.parquet(\"/user/hw2/parquet/adsinfo.parquet\")\n",
    "adsinfo_parquet.printSchema()\n",
    "adsinfo = adsinfo_parquet\n",
    "\n",
    "searchinfo.write.parquet(\"/user/hw2/parquet/searchinfo.parquet\")\n",
    "searchinfo_parquet = se.read.parquet(\"/user/hw2/parquet/searchinfo.parquet\")\n",
    "searchinfo_parquet.printSchema()\n",
    "searchinfo = searchinfo_parquet"
   ]
  },
  {
   "cell_type": "code",
   "execution_count": 7,
   "id": "80c5e7cb",
   "metadata": {},
   "outputs": [],
   "source": [
    "data.registerTempTable(\"searchstream\")\n",
    "adsinfo.registerTempTable(\"adsinfo\")\n",
    "searchinfo.registerTempTable(\"searchinfo\")"
   ]
  },
  {
   "cell_type": "code",
   "execution_count": 8,
   "id": "b866e136",
   "metadata": {},
   "outputs": [],
   "source": [
    "searchstreamfeatures = se.sql(\"\"\"\n",
    "    SELECT SearchID as search_id, AdID as f_cat_ad_id, Position as f_num_position, HistCTR as f_num_hist_ctr, IsClick as target\n",
    "    FROM searchstream\n",
    "    WHERE ObjectType = 3\n",
    "\"\"\")\n",
    "\n",
    "searchinfofeatures = se.sql(\"\"\"\n",
    "    SELECT SearchID as search_id, SearchQuery as f_cat_search_query, UserID as f_cat_user_id, SearchParams as f_cat_search_params, CategoryID as f_cat_search_category\n",
    "    FROM searchinfo\n",
    "\"\"\")\n",
    "\n",
    "adsinfofeatures = se.sql(\"\"\"\n",
    "    SELECT AdID as f_cat_ad_id, CategoryID as f_cat_ad_category, Title as f_cat_ad_title, Price as f_num_ad_price\n",
    "    FROM adsinfo\n",
    "\"\"\")"
   ]
  },
  {
   "cell_type": "markdown",
   "id": "f75aa6ad",
   "metadata": {},
   "source": [
    "Предобрабатываем тексты"
   ]
  },
  {
   "cell_type": "code",
   "execution_count": 9,
   "id": "7973163f",
   "metadata": {},
   "outputs": [],
   "source": [
    "import string\n",
    "import re\n",
    "\n",
    "allowed = set(string.ascii_letters + string.digits + \" ,\" +\n",
    "              u\"АаБбВвГгДдЕеЁёЖжЗзИиЙйКкЛлМмНнОоПпРрСсТтУуФфХхЦцЧчШшЩщЪъЫыЬьЭэЮюЯя\")\n",
    "\n",
    "def slugify_ohe(text):\n",
    "    if not text:\n",
    "        return \"\"\n",
    "    text = \"\".join([ch for ch in text.lower() if ch in allowed])\n",
    "    return text\n",
    "\n",
    "f_slugify_ohe = se.udf.register(\"slugify_ohe\", slugify_ohe, \"string\")\n",
    "\n",
    "def parse_search_params(text):\n",
    "    if not text:\n",
    "        return \"\"\n",
    "    pattern = re.compile(r\"('.+?')\")\n",
    "    params = pattern.findall(text)\n",
    "    return \" \".join([\"\".join([ch for ch in s.lower() if ch in allowed]).replace(\" \", \"_\")\n",
    "            for s in pattern.findall(text)])\n",
    "\n",
    "f_parse_search_params = se.udf.register(\"parse_search_params\", parse_search_params, \"string\")\n",
    "\n",
    "\n",
    "\n",
    "adsinfofeatures.select(\n",
    "    \"f_cat_ad_id\", \"f_cat_ad_category\", f_slugify_ohe(adsinfofeatures.f_cat_ad_title).alias(\"f_cat_ad_title\"),\n",
    "    \"f_num_ad_price\").registerTempTable(\"adsinfofeatures\")\n",
    "adsinfofeatures = se.sql(\"\"\"\n",
    "    SELECT *\n",
    "    FROM adsinfofeatures\n",
    "\"\"\")\n",
    "\n",
    "searchinfofeatures.select(\n",
    "    \"search_id\", f_slugify_ohe(searchinfofeatures.f_cat_search_query).alias(\"f_cat_search_query\"),\n",
    "    \"f_cat_user_id\", f_parse_search_params(searchinfofeatures.f_cat_search_params).alias(\"f_cat_search_params\"),\n",
    "    \"f_cat_search_category\").registerTempTable(\"searchinfofeatures\")\n",
    "searchinfofeatures = se.sql(\"\"\"\n",
    "    SELECT *\n",
    "    FROM searchinfofeatures\n",
    "\"\"\")\n",
    "\n",
    "searchstreamfeatures.registerTempTable(\"searchstreamfeatures\")"
   ]
  },
  {
   "cell_type": "code",
   "execution_count": 10,
   "id": "a147047d",
   "metadata": {},
   "outputs": [
    {
     "name": "stderr",
     "output_type": "stream",
     "text": [
      "2023-03-04 16:05:45,094 WARN sql.Column: Constructing trivially true equals predicate, ''search_id = 'search_id'. Perhaps you need to use aliases.\n"
     ]
    }
   ],
   "source": [
    "bias = searchstreamfeatures.select('search_id',\n",
    "                                   F.when(F.col('search_id') == F.col('search_id'), 1).alias('f_bias')).distinct()\n",
    "bias.registerTempTable(\"bias\")"
   ]
  },
  {
   "cell_type": "code",
   "execution_count": 11,
   "id": "afe0e390",
   "metadata": {},
   "outputs": [
    {
     "name": "stderr",
     "output_type": "stream",
     "text": [
      "                                                                                \r"
     ]
    },
    {
     "data": {
      "text/html": [
       "<div>\n",
       "<style scoped>\n",
       "    .dataframe tbody tr th:only-of-type {\n",
       "        vertical-align: middle;\n",
       "    }\n",
       "\n",
       "    .dataframe tbody tr th {\n",
       "        vertical-align: top;\n",
       "    }\n",
       "\n",
       "    .dataframe thead th {\n",
       "        text-align: right;\n",
       "    }\n",
       "</style>\n",
       "<table border=\"1\" class=\"dataframe\">\n",
       "  <thead>\n",
       "    <tr style=\"text-align: right;\">\n",
       "      <th></th>\n",
       "      <th>search_id</th>\n",
       "      <th>f_bias</th>\n",
       "    </tr>\n",
       "  </thead>\n",
       "  <tbody>\n",
       "    <tr>\n",
       "      <th>0</th>\n",
       "      <td>4360759</td>\n",
       "      <td>1</td>\n",
       "    </tr>\n",
       "    <tr>\n",
       "      <th>1</th>\n",
       "      <td>4360862</td>\n",
       "      <td>1</td>\n",
       "    </tr>\n",
       "    <tr>\n",
       "      <th>2</th>\n",
       "      <td>4361152</td>\n",
       "      <td>1</td>\n",
       "    </tr>\n",
       "    <tr>\n",
       "      <th>3</th>\n",
       "      <td>4361362</td>\n",
       "      <td>1</td>\n",
       "    </tr>\n",
       "    <tr>\n",
       "      <th>4</th>\n",
       "      <td>4361517</td>\n",
       "      <td>1</td>\n",
       "    </tr>\n",
       "    <tr>\n",
       "      <th>5</th>\n",
       "      <td>4361591</td>\n",
       "      <td>1</td>\n",
       "    </tr>\n",
       "    <tr>\n",
       "      <th>6</th>\n",
       "      <td>4361951</td>\n",
       "      <td>1</td>\n",
       "    </tr>\n",
       "    <tr>\n",
       "      <th>7</th>\n",
       "      <td>4362155</td>\n",
       "      <td>1</td>\n",
       "    </tr>\n",
       "    <tr>\n",
       "      <th>8</th>\n",
       "      <td>4362323</td>\n",
       "      <td>1</td>\n",
       "    </tr>\n",
       "    <tr>\n",
       "      <th>9</th>\n",
       "      <td>4362540</td>\n",
       "      <td>1</td>\n",
       "    </tr>\n",
       "  </tbody>\n",
       "</table>\n",
       "</div>"
      ],
      "text/plain": [
       "   search_id  f_bias\n",
       "0    4360759       1\n",
       "1    4360862       1\n",
       "2    4361152       1\n",
       "3    4361362       1\n",
       "4    4361517       1\n",
       "5    4361591       1\n",
       "6    4361951       1\n",
       "7    4362155       1\n",
       "8    4362323       1\n",
       "9    4362540       1"
      ]
     },
     "execution_count": 11,
     "metadata": {},
     "output_type": "execute_result"
    }
   ],
   "source": [
    "bias.select(\"*\").limit(10).toPandas()"
   ]
  },
  {
   "cell_type": "code",
   "execution_count": 12,
   "id": "ddf90550",
   "metadata": {},
   "outputs": [
    {
     "name": "stderr",
     "output_type": "stream",
     "text": [
      "                                                                                \r"
     ]
    },
    {
     "data": {
      "text/html": [
       "<div>\n",
       "<style scoped>\n",
       "    .dataframe tbody tr th:only-of-type {\n",
       "        vertical-align: middle;\n",
       "    }\n",
       "\n",
       "    .dataframe tbody tr th {\n",
       "        vertical-align: top;\n",
       "    }\n",
       "\n",
       "    .dataframe thead th {\n",
       "        text-align: right;\n",
       "    }\n",
       "</style>\n",
       "<table border=\"1\" class=\"dataframe\">\n",
       "  <thead>\n",
       "    <tr style=\"text-align: right;\">\n",
       "      <th></th>\n",
       "      <th>search_id</th>\n",
       "      <th>f_cat_search_query</th>\n",
       "      <th>f_cat_user_id</th>\n",
       "      <th>f_cat_search_params</th>\n",
       "      <th>f_cat_search_category</th>\n",
       "    </tr>\n",
       "  </thead>\n",
       "  <tbody>\n",
       "    <tr>\n",
       "      <th>0</th>\n",
       "      <td>1</td>\n",
       "      <td></td>\n",
       "      <td>3640266</td>\n",
       "      <td></td>\n",
       "      <td>5</td>\n",
       "    </tr>\n",
       "    <tr>\n",
       "      <th>1</th>\n",
       "      <td>2</td>\n",
       "      <td></td>\n",
       "      <td>769304</td>\n",
       "      <td></td>\n",
       "      <td>50</td>\n",
       "    </tr>\n",
       "    <tr>\n",
       "      <th>2</th>\n",
       "      <td>3</td>\n",
       "      <td></td>\n",
       "      <td>640089</td>\n",
       "      <td></td>\n",
       "      <td>12</td>\n",
       "    </tr>\n",
       "    <tr>\n",
       "      <th>3</th>\n",
       "      <td>4</td>\n",
       "      <td></td>\n",
       "      <td>3573776</td>\n",
       "      <td>обувь женская_одежда 38</td>\n",
       "      <td>22</td>\n",
       "    </tr>\n",
       "    <tr>\n",
       "      <th>4</th>\n",
       "      <td>5</td>\n",
       "      <td></td>\n",
       "      <td>320674</td>\n",
       "      <td></td>\n",
       "      <td>1</td>\n",
       "    </tr>\n",
       "    <tr>\n",
       "      <th>5</th>\n",
       "      <td>6</td>\n",
       "      <td></td>\n",
       "      <td>1665156</td>\n",
       "      <td></td>\n",
       "      <td>27</td>\n",
       "    </tr>\n",
       "    <tr>\n",
       "      <th>6</th>\n",
       "      <td>7</td>\n",
       "      <td></td>\n",
       "      <td>3434614</td>\n",
       "      <td></td>\n",
       "      <td>500001</td>\n",
       "    </tr>\n",
       "    <tr>\n",
       "      <th>7</th>\n",
       "      <td>8</td>\n",
       "      <td></td>\n",
       "      <td>905821</td>\n",
       "      <td></td>\n",
       "      <td>12</td>\n",
       "    </tr>\n",
       "    <tr>\n",
       "      <th>8</th>\n",
       "      <td>9</td>\n",
       "      <td></td>\n",
       "      <td>1106541</td>\n",
       "      <td></td>\n",
       "      <td>4</td>\n",
       "    </tr>\n",
       "    <tr>\n",
       "      <th>9</th>\n",
       "      <td>10</td>\n",
       "      <td></td>\n",
       "      <td>3310798</td>\n",
       "      <td></td>\n",
       "      <td>12</td>\n",
       "    </tr>\n",
       "  </tbody>\n",
       "</table>\n",
       "</div>"
      ],
      "text/plain": [
       "   search_id f_cat_search_query  f_cat_user_id      f_cat_search_params  \\\n",
       "0          1                           3640266                            \n",
       "1          2                            769304                            \n",
       "2          3                            640089                            \n",
       "3          4                           3573776  обувь женская_одежда 38   \n",
       "4          5                            320674                            \n",
       "5          6                           1665156                            \n",
       "6          7                           3434614                            \n",
       "7          8                            905821                            \n",
       "8          9                           1106541                            \n",
       "9         10                           3310798                            \n",
       "\n",
       "   f_cat_search_category  \n",
       "0                      5  \n",
       "1                     50  \n",
       "2                     12  \n",
       "3                     22  \n",
       "4                      1  \n",
       "5                     27  \n",
       "6                 500001  \n",
       "7                     12  \n",
       "8                      4  \n",
       "9                     12  "
      ]
     },
     "execution_count": 12,
     "metadata": {},
     "output_type": "execute_result"
    }
   ],
   "source": [
    "searchinfofeatures.select(\"*\").limit(10).toPandas()"
   ]
  },
  {
   "cell_type": "code",
   "execution_count": 13,
   "id": "69d4ac83",
   "metadata": {},
   "outputs": [
    {
     "name": "stderr",
     "output_type": "stream",
     "text": [
      "                                                                                \r"
     ]
    },
    {
     "data": {
      "text/html": [
       "<div>\n",
       "<style scoped>\n",
       "    .dataframe tbody tr th:only-of-type {\n",
       "        vertical-align: middle;\n",
       "    }\n",
       "\n",
       "    .dataframe tbody tr th {\n",
       "        vertical-align: top;\n",
       "    }\n",
       "\n",
       "    .dataframe thead th {\n",
       "        text-align: right;\n",
       "    }\n",
       "</style>\n",
       "<table border=\"1\" class=\"dataframe\">\n",
       "  <thead>\n",
       "    <tr style=\"text-align: right;\">\n",
       "      <th></th>\n",
       "      <th>search_id</th>\n",
       "      <th>f_cat_ad_id</th>\n",
       "      <th>f_num_position</th>\n",
       "      <th>f_num_hist_ctr</th>\n",
       "      <th>target</th>\n",
       "    </tr>\n",
       "  </thead>\n",
       "  <tbody>\n",
       "    <tr>\n",
       "      <th>0</th>\n",
       "      <td>2</td>\n",
       "      <td>11441863</td>\n",
       "      <td>1</td>\n",
       "      <td>0.001804</td>\n",
       "      <td>0</td>\n",
       "    </tr>\n",
       "    <tr>\n",
       "      <th>1</th>\n",
       "      <td>2</td>\n",
       "      <td>22968355</td>\n",
       "      <td>7</td>\n",
       "      <td>0.004723</td>\n",
       "      <td>0</td>\n",
       "    </tr>\n",
       "    <tr>\n",
       "      <th>2</th>\n",
       "      <td>3</td>\n",
       "      <td>212187</td>\n",
       "      <td>7</td>\n",
       "      <td>0.029701</td>\n",
       "      <td>0</td>\n",
       "    </tr>\n",
       "    <tr>\n",
       "      <th>3</th>\n",
       "      <td>3</td>\n",
       "      <td>34084553</td>\n",
       "      <td>1</td>\n",
       "      <td>0.004300</td>\n",
       "      <td>0</td>\n",
       "    </tr>\n",
       "    <tr>\n",
       "      <th>4</th>\n",
       "      <td>4</td>\n",
       "      <td>20653823</td>\n",
       "      <td>1</td>\n",
       "      <td>0.003049</td>\n",
       "      <td>0</td>\n",
       "    </tr>\n",
       "    <tr>\n",
       "      <th>5</th>\n",
       "      <td>5</td>\n",
       "      <td>11219482</td>\n",
       "      <td>1</td>\n",
       "      <td>0.043897</td>\n",
       "      <td>0</td>\n",
       "    </tr>\n",
       "    <tr>\n",
       "      <th>6</th>\n",
       "      <td>5</td>\n",
       "      <td>13375896</td>\n",
       "      <td>7</td>\n",
       "      <td>0.001563</td>\n",
       "      <td>0</td>\n",
       "    </tr>\n",
       "    <tr>\n",
       "      <th>7</th>\n",
       "      <td>6</td>\n",
       "      <td>6303835</td>\n",
       "      <td>1</td>\n",
       "      <td>0.007044</td>\n",
       "      <td>0</td>\n",
       "    </tr>\n",
       "    <tr>\n",
       "      <th>8</th>\n",
       "      <td>6</td>\n",
       "      <td>28312593</td>\n",
       "      <td>7</td>\n",
       "      <td>0.002199</td>\n",
       "      <td>0</td>\n",
       "    </tr>\n",
       "    <tr>\n",
       "      <th>9</th>\n",
       "      <td>8</td>\n",
       "      <td>24728248</td>\n",
       "      <td>1</td>\n",
       "      <td>0.003647</td>\n",
       "      <td>0</td>\n",
       "    </tr>\n",
       "  </tbody>\n",
       "</table>\n",
       "</div>"
      ],
      "text/plain": [
       "   search_id  f_cat_ad_id  f_num_position  f_num_hist_ctr  target\n",
       "0          2     11441863               1        0.001804       0\n",
       "1          2     22968355               7        0.004723       0\n",
       "2          3       212187               7        0.029701       0\n",
       "3          3     34084553               1        0.004300       0\n",
       "4          4     20653823               1        0.003049       0\n",
       "5          5     11219482               1        0.043897       0\n",
       "6          5     13375896               7        0.001563       0\n",
       "7          6      6303835               1        0.007044       0\n",
       "8          6     28312593               7        0.002199       0\n",
       "9          8     24728248               1        0.003647       0"
      ]
     },
     "execution_count": 13,
     "metadata": {},
     "output_type": "execute_result"
    }
   ],
   "source": [
    "searchstreamfeatures.select(\"*\").limit(10).toPandas()"
   ]
  },
  {
   "cell_type": "code",
   "execution_count": 14,
   "id": "465a626a",
   "metadata": {
    "scrolled": true
   },
   "outputs": [
    {
     "name": "stderr",
     "output_type": "stream",
     "text": [
      "                                                                                \r"
     ]
    },
    {
     "data": {
      "text/html": [
       "<div>\n",
       "<style scoped>\n",
       "    .dataframe tbody tr th:only-of-type {\n",
       "        vertical-align: middle;\n",
       "    }\n",
       "\n",
       "    .dataframe tbody tr th {\n",
       "        vertical-align: top;\n",
       "    }\n",
       "\n",
       "    .dataframe thead th {\n",
       "        text-align: right;\n",
       "    }\n",
       "</style>\n",
       "<table border=\"1\" class=\"dataframe\">\n",
       "  <thead>\n",
       "    <tr style=\"text-align: right;\">\n",
       "      <th></th>\n",
       "      <th>f_cat_ad_id</th>\n",
       "      <th>f_cat_ad_category</th>\n",
       "      <th>f_cat_ad_title</th>\n",
       "      <th>f_num_ad_price</th>\n",
       "    </tr>\n",
       "  </thead>\n",
       "  <tbody>\n",
       "    <tr>\n",
       "      <th>0</th>\n",
       "      <td>1</td>\n",
       "      <td>43</td>\n",
       "      <td>toyota estima, 1993</td>\n",
       "      <td>160000.0</td>\n",
       "    </tr>\n",
       "    <tr>\n",
       "      <th>1</th>\n",
       "      <td>2</td>\n",
       "      <td>34</td>\n",
       "      <td>передние брызговики форд фокус 2 родные</td>\n",
       "      <td>750.0</td>\n",
       "    </tr>\n",
       "    <tr>\n",
       "      <th>2</th>\n",
       "      <td>3</td>\n",
       "      <td>53</td>\n",
       "      <td>дровокол</td>\n",
       "      <td>18000.0</td>\n",
       "    </tr>\n",
       "    <tr>\n",
       "      <th>3</th>\n",
       "      <td>4</td>\n",
       "      <td>57</td>\n",
       "      <td>продам ходули складные</td>\n",
       "      <td>1500.0</td>\n",
       "    </tr>\n",
       "    <tr>\n",
       "      <th>4</th>\n",
       "      <td>5</td>\n",
       "      <td>34</td>\n",
       "      <td>поворотник r  carina 20317</td>\n",
       "      <td>800.0</td>\n",
       "    </tr>\n",
       "    <tr>\n",
       "      <th>5</th>\n",
       "      <td>6</td>\n",
       "      <td>34</td>\n",
       "      <td>ваз дверь 2106 передняя левая</td>\n",
       "      <td>0.0</td>\n",
       "    </tr>\n",
       "    <tr>\n",
       "      <th>6</th>\n",
       "      <td>7</td>\n",
       "      <td>26</td>\n",
       "      <td>видео</td>\n",
       "      <td>30.0</td>\n",
       "    </tr>\n",
       "    <tr>\n",
       "      <th>7</th>\n",
       "      <td>8</td>\n",
       "      <td>22</td>\n",
       "      <td>дизайнерское платье</td>\n",
       "      <td>7000.0</td>\n",
       "    </tr>\n",
       "    <tr>\n",
       "      <th>8</th>\n",
       "      <td>9</td>\n",
       "      <td>47</td>\n",
       "      <td>светодиодный конструктор lite brix подиум</td>\n",
       "      <td>2460.0</td>\n",
       "    </tr>\n",
       "    <tr>\n",
       "      <th>9</th>\n",
       "      <td>10</td>\n",
       "      <td>54</td>\n",
       "      <td>3к квартира, 92 м, 44 эт</td>\n",
       "      <td>7000000.0</td>\n",
       "    </tr>\n",
       "  </tbody>\n",
       "</table>\n",
       "</div>"
      ],
      "text/plain": [
       "   f_cat_ad_id  f_cat_ad_category                             f_cat_ad_title  \\\n",
       "0            1                 43                        toyota estima, 1993   \n",
       "1            2                 34    передние брызговики форд фокус 2 родные   \n",
       "2            3                 53                                   дровокол   \n",
       "3            4                 57                     продам ходули складные   \n",
       "4            5                 34                 поворотник r  carina 20317   \n",
       "5            6                 34              ваз дверь 2106 передняя левая   \n",
       "6            7                 26                                      видео   \n",
       "7            8                 22                        дизайнерское платье   \n",
       "8            9                 47  светодиодный конструктор lite brix подиум   \n",
       "9           10                 54                   3к квартира, 92 м, 44 эт   \n",
       "\n",
       "   f_num_ad_price  \n",
       "0        160000.0  \n",
       "1           750.0  \n",
       "2         18000.0  \n",
       "3          1500.0  \n",
       "4           800.0  \n",
       "5             0.0  \n",
       "6            30.0  \n",
       "7          7000.0  \n",
       "8          2460.0  \n",
       "9       7000000.0  "
      ]
     },
     "execution_count": 14,
     "metadata": {},
     "output_type": "execute_result"
    }
   ],
   "source": [
    "adsinfofeatures.select(\"*\").limit(10).toPandas()"
   ]
  },
  {
   "cell_type": "code",
   "execution_count": 20,
   "id": "738beffd",
   "metadata": {},
   "outputs": [
    {
     "name": "stderr",
     "output_type": "stream",
     "text": [
      "                                                                                \r"
     ]
    }
   ],
   "source": [
    "dataset_df = searchstreamfeatures.join(searchinfofeatures,\n",
    "                                       [\"search_id\"], \"left\")\\\n",
    "            .join(adsinfofeatures, [\"f_cat_ad_id\"], \"left\")\\\n",
    "            .join(bias, [\"search_id\"], \"left\")\n",
    "dataset_df = dataset_df.drop(adsinfofeatures.f_cat_ad_id)\n",
    "\n",
    "assert dataset_df.count() == searchstreamfeatures.count()"
   ]
  },
  {
   "cell_type": "code",
   "execution_count": 21,
   "id": "3031ba6e",
   "metadata": {},
   "outputs": [
    {
     "name": "stderr",
     "output_type": "stream",
     "text": [
      "                                                                                \r"
     ]
    },
    {
     "data": {
      "text/plain": [
       "(190157735, 190157735)"
      ]
     },
     "execution_count": 21,
     "metadata": {},
     "output_type": "execute_result"
    }
   ],
   "source": [
    "dataset_df.count(), searchstreamfeatures.count()"
   ]
  },
  {
   "cell_type": "code",
   "execution_count": 22,
   "id": "4b5d5a3f",
   "metadata": {},
   "outputs": [
    {
     "name": "stderr",
     "output_type": "stream",
     "text": [
      "                                                                                \r"
     ]
    }
   ],
   "source": [
    "cols = dataset_df.columns\n",
    "\n",
    "non_features_c = [\n",
    "    c for c in cols\n",
    "    if not (c == 'target' or c.startswith('f_'))\n",
    "]\n",
    "\n",
    "se.conf.set(\"spark.sql.autoBroadcastJoinThreshold\", -1)\n",
    "dataset_df.drop(*non_features_c).write.parquet(\"/user/hw2/parquet/dataset.parquet\")\n",
    "dataset_fd = se.read.parquet('/user/hw2/parquet/dataset.parquet')"
   ]
  },
  {
   "cell_type": "code",
   "execution_count": 24,
   "id": "5fb3ca59",
   "metadata": {},
   "outputs": [
    {
     "name": "stderr",
     "output_type": "stream",
     "text": [
      "                                                                                \r"
     ]
    },
    {
     "name": "stdout",
     "output_type": "stream",
     "text": [
      "{'f_num_position_mean': 3.5966107873550346, 'f_num_hist_ctr_mean': 0.010295077818140446, 'f_num_ad_price_mean': 19687.08405264681, 'f_num_position_dev': 2.972755824078931, 'f_num_hist_ctr_dev': 0.015561120810695718, 'f_num_ad_price_dev': 141027.54172019535}\n"
     ]
    },
    {
     "data": {
      "text/html": [
       "<div>\n",
       "<style scoped>\n",
       "    .dataframe tbody tr th:only-of-type {\n",
       "        vertical-align: middle;\n",
       "    }\n",
       "\n",
       "    .dataframe tbody tr th {\n",
       "        vertical-align: top;\n",
       "    }\n",
       "\n",
       "    .dataframe thead th {\n",
       "        text-align: right;\n",
       "    }\n",
       "</style>\n",
       "<table border=\"1\" class=\"dataframe\">\n",
       "  <thead>\n",
       "    <tr style=\"text-align: right;\">\n",
       "      <th></th>\n",
       "      <th>target</th>\n",
       "      <th>f_cat_ad_id</th>\n",
       "      <th>f_cat_search_query</th>\n",
       "      <th>f_cat_user_id</th>\n",
       "      <th>f_cat_search_params</th>\n",
       "      <th>f_cat_search_category</th>\n",
       "      <th>f_cat_ad_category</th>\n",
       "      <th>f_cat_ad_title</th>\n",
       "      <th>f_bias</th>\n",
       "      <th>f_num_position</th>\n",
       "      <th>f_num_hist_ctr</th>\n",
       "      <th>f_num_ad_price</th>\n",
       "    </tr>\n",
       "  </thead>\n",
       "  <tbody>\n",
       "    <tr>\n",
       "      <th>0</th>\n",
       "      <td>0</td>\n",
       "      <td>26654369</td>\n",
       "      <td>платье</td>\n",
       "      <td>70934</td>\n",
       "      <td>платья_и_юбки женская_одежда 4648_l</td>\n",
       "      <td>22</td>\n",
       "      <td>NaN</td>\n",
       "      <td>None</td>\n",
       "      <td>1</td>\n",
       "      <td>-0.653604</td>\n",
       "      <td>-0.008303</td>\n",
       "      <td>NaN</td>\n",
       "    </tr>\n",
       "    <tr>\n",
       "      <th>1</th>\n",
       "      <td>0</td>\n",
       "      <td>29080446</td>\n",
       "      <td>платье</td>\n",
       "      <td>70934</td>\n",
       "      <td>платья_и_юбки женская_одежда 4648_l</td>\n",
       "      <td>22</td>\n",
       "      <td>NaN</td>\n",
       "      <td>None</td>\n",
       "      <td>1</td>\n",
       "      <td>0.856682</td>\n",
       "      <td>-0.003335</td>\n",
       "      <td>NaN</td>\n",
       "    </tr>\n",
       "    <tr>\n",
       "      <th>2</th>\n",
       "      <td>0</td>\n",
       "      <td>25863656</td>\n",
       "      <td></td>\n",
       "      <td>2842273</td>\n",
       "      <td>туризм</td>\n",
       "      <td>5</td>\n",
       "      <td>NaN</td>\n",
       "      <td>None</td>\n",
       "      <td>1</td>\n",
       "      <td>0.856682</td>\n",
       "      <td>0.003995</td>\n",
       "      <td>NaN</td>\n",
       "    </tr>\n",
       "    <tr>\n",
       "      <th>3</th>\n",
       "      <td>0</td>\n",
       "      <td>34514394</td>\n",
       "      <td></td>\n",
       "      <td>2842273</td>\n",
       "      <td>туризм</td>\n",
       "      <td>5</td>\n",
       "      <td>NaN</td>\n",
       "      <td>None</td>\n",
       "      <td>1</td>\n",
       "      <td>-0.653604</td>\n",
       "      <td>0.025578</td>\n",
       "      <td>NaN</td>\n",
       "    </tr>\n",
       "    <tr>\n",
       "      <th>4</th>\n",
       "      <td>0</td>\n",
       "      <td>22884453</td>\n",
       "      <td></td>\n",
       "      <td>3478915</td>\n",
       "      <td></td>\n",
       "      <td>22</td>\n",
       "      <td>NaN</td>\n",
       "      <td>None</td>\n",
       "      <td>1</td>\n",
       "      <td>-0.653604</td>\n",
       "      <td>0.019101</td>\n",
       "      <td>NaN</td>\n",
       "    </tr>\n",
       "    <tr>\n",
       "      <th>5</th>\n",
       "      <td>0</td>\n",
       "      <td>36419838</td>\n",
       "      <td></td>\n",
       "      <td>3478915</td>\n",
       "      <td></td>\n",
       "      <td>22</td>\n",
       "      <td>NaN</td>\n",
       "      <td>None</td>\n",
       "      <td>1</td>\n",
       "      <td>0.856682</td>\n",
       "      <td>-0.006570</td>\n",
       "      <td>NaN</td>\n",
       "    </tr>\n",
       "    <tr>\n",
       "      <th>6</th>\n",
       "      <td>0</td>\n",
       "      <td>32660272</td>\n",
       "      <td></td>\n",
       "      <td>1634102</td>\n",
       "      <td>мелкая_кухонная_техника для_кухни</td>\n",
       "      <td>27</td>\n",
       "      <td>NaN</td>\n",
       "      <td>None</td>\n",
       "      <td>1</td>\n",
       "      <td>-0.653604</td>\n",
       "      <td>-0.003375</td>\n",
       "      <td>NaN</td>\n",
       "    </tr>\n",
       "    <tr>\n",
       "      <th>7</th>\n",
       "      <td>0</td>\n",
       "      <td>3843783</td>\n",
       "      <td></td>\n",
       "      <td>1634102</td>\n",
       "      <td>мелкая_кухонная_техника для_кухни</td>\n",
       "      <td>27</td>\n",
       "      <td>27.0</td>\n",
       "      <td>мультиварка redmond rmcm4502</td>\n",
       "      <td>1</td>\n",
       "      <td>0.856682</td>\n",
       "      <td>-0.008886</td>\n",
       "      <td>-0.104150</td>\n",
       "    </tr>\n",
       "    <tr>\n",
       "      <th>8</th>\n",
       "      <td>0</td>\n",
       "      <td>20297160</td>\n",
       "      <td></td>\n",
       "      <td>1313625</td>\n",
       "      <td>часы</td>\n",
       "      <td>11</td>\n",
       "      <td>11.0</td>\n",
       "      <td>наручные часы timex t49828</td>\n",
       "      <td>1</td>\n",
       "      <td>-0.653604</td>\n",
       "      <td>0.016191</td>\n",
       "      <td>-0.090528</td>\n",
       "    </tr>\n",
       "    <tr>\n",
       "      <th>9</th>\n",
       "      <td>0</td>\n",
       "      <td>6942172</td>\n",
       "      <td></td>\n",
       "      <td>1313625</td>\n",
       "      <td>часы</td>\n",
       "      <td>11</td>\n",
       "      <td>11.0</td>\n",
       "      <td>наручные часы citizen as202011h</td>\n",
       "      <td>1</td>\n",
       "      <td>0.856682</td>\n",
       "      <td>0.001687</td>\n",
       "      <td>0.157790</td>\n",
       "    </tr>\n",
       "  </tbody>\n",
       "</table>\n",
       "</div>"
      ],
      "text/plain": [
       "   target  f_cat_ad_id f_cat_search_query  f_cat_user_id  \\\n",
       "0       0     26654369             платье          70934   \n",
       "1       0     29080446             платье          70934   \n",
       "2       0     25863656                           2842273   \n",
       "3       0     34514394                           2842273   \n",
       "4       0     22884453                           3478915   \n",
       "5       0     36419838                           3478915   \n",
       "6       0     32660272                           1634102   \n",
       "7       0      3843783                           1634102   \n",
       "8       0     20297160                           1313625   \n",
       "9       0      6942172                           1313625   \n",
       "\n",
       "                   f_cat_search_params  f_cat_search_category  \\\n",
       "0  платья_и_юбки женская_одежда 4648_l                     22   \n",
       "1  платья_и_юбки женская_одежда 4648_l                     22   \n",
       "2                               туризм                      5   \n",
       "3                               туризм                      5   \n",
       "4                                                          22   \n",
       "5                                                          22   \n",
       "6    мелкая_кухонная_техника для_кухни                     27   \n",
       "7    мелкая_кухонная_техника для_кухни                     27   \n",
       "8                                 часы                     11   \n",
       "9                                 часы                     11   \n",
       "\n",
       "   f_cat_ad_category                   f_cat_ad_title  f_bias  f_num_position  \\\n",
       "0                NaN                             None       1       -0.653604   \n",
       "1                NaN                             None       1        0.856682   \n",
       "2                NaN                             None       1        0.856682   \n",
       "3                NaN                             None       1       -0.653604   \n",
       "4                NaN                             None       1       -0.653604   \n",
       "5                NaN                             None       1        0.856682   \n",
       "6                NaN                             None       1       -0.653604   \n",
       "7               27.0     мультиварка redmond rmcm4502       1        0.856682   \n",
       "8               11.0       наручные часы timex t49828       1       -0.653604   \n",
       "9               11.0  наручные часы citizen as202011h       1        0.856682   \n",
       "\n",
       "   f_num_hist_ctr  f_num_ad_price  \n",
       "0       -0.008303             NaN  \n",
       "1       -0.003335             NaN  \n",
       "2        0.003995             NaN  \n",
       "3        0.025578             NaN  \n",
       "4        0.019101             NaN  \n",
       "5       -0.006570             NaN  \n",
       "6       -0.003375             NaN  \n",
       "7       -0.008886       -0.104150  \n",
       "8        0.016191       -0.090528  \n",
       "9        0.001687        0.157790  "
      ]
     },
     "execution_count": 24,
     "metadata": {},
     "output_type": "execute_result"
    }
   ],
   "source": [
    "f_real_cols = [f for f in dataset_fd.columns if f.startswith('f') and not f.startswith('f_cat') and f != 'f_bias']\n",
    "f_cat_cols = [f for f in dataset_fd.columns if f.startswith('f') and (f.startswith('f_cat') or f == 'f_bias')]\n",
    "\n",
    "exps_mean = [\n",
    "    F.mean(c).alias('{}_mean'.format(c))\n",
    "    for c in f_real_cols\n",
    "]\n",
    "\n",
    "exps_dev = [\n",
    "    F.stddev(c).alias('{}_dev'.format(c))\n",
    "    for c in f_real_cols\n",
    "]\n",
    "\n",
    "norm_f = dataset_fd.select(*exps_mean, *exps_dev).rdd.take(1)\n",
    "norm_dict = norm_f[0].asDict()\n",
    "print(norm_dict)\n",
    "\n",
    "exps = [\n",
    "    (\n",
    "        (F.col(c) - norm_dict[\"{}_mean\".format(c)]) / (1 + norm_dict[\"{}_dev\".format(c)])\n",
    "    ).alias(c)\n",
    "    for c in f_real_cols\n",
    "]\n",
    "\n",
    "dataset_fd.select(\"target\", *f_cat_cols, *exps).limit(10).toPandas()"
   ]
  },
  {
   "cell_type": "code",
   "execution_count": 25,
   "id": "aa37d19b",
   "metadata": {},
   "outputs": [
    {
     "name": "stderr",
     "output_type": "stream",
     "text": [
      "                                                                                \r"
     ]
    }
   ],
   "source": [
    "train_df, test_df = dataset_fd.select(\"target\", *f_cat_cols, *exps).randomSplit([0.8, 0.2], 432)\n",
    "train_df.write.parquet(\"/user/hw2/parquet/train_df.parquet\")\n",
    "test_df.write.parquet(\"/user/hw2/parquet/test_df.parquet\")"
   ]
  },
  {
   "cell_type": "code",
   "execution_count": 23,
   "id": "74e8f42d",
   "metadata": {},
   "outputs": [],
   "source": [
    "train = train_df.rdd.map(lambda row : f\"{row.target - (1 - row.target)}\" + \n",
    "         \"\".join([f\" |{cat_col} {getattr(row, cat_col)}\"\n",
    "                  for cat_col in f_cat_cols if (\n",
    "                      getattr(row, cat_col) is not None and getattr(row, cat_col) not in [\"\", \"NaN\", \"None\"])]) + \n",
    "         \"\".join([f\" |{real_col}:{getattr(row, real_col)}\" for real_col in f_real_cols if (\n",
    "                      getattr(row, real_col) is not None and getattr(row, real_col) not in [\"\", \"NaN\", \"None\"])])).cache()\n",
    "test = test_df.rdd.map(lambda row : f\"{row.target - (1 - row.target)}\" + \n",
    "         \"\".join([f\" |{cat_col} {getattr(row, cat_col)}\"\n",
    "                  for cat_col in f_cat_cols if (\n",
    "                      getattr(row, cat_col) is not None and getattr(row, cat_col) not in [\"\", \"NaN\", \"None\"])]) + \n",
    "         \"\".join([f\" |{real_col}:{getattr(row, real_col)}\" for real_col in f_real_cols if (\n",
    "                      getattr(row, real_col) is not None and getattr(row, real_col) not in [\"\", \"NaN\", \"None\"])])).cache()"
   ]
  },
  {
   "cell_type": "code",
   "execution_count": null,
   "id": "40fd961a",
   "metadata": {},
   "outputs": [],
   "source": [
    "! hdfs dfs -rm -r /user/vw_train_data\n",
    "! hdfs dfs -rm -r /user/vw_test_data\n",
    "train.saveAsTextFile(\"/user/vw_train_data\")\n",
    "test.saveAsTextFile(\"/user/vw_test_data\")"
   ]
  },
  {
   "cell_type": "code",
   "execution_count": null,
   "id": "8991958d",
   "metadata": {},
   "outputs": [],
   "source": [
    "# now, do the same with test dataset\n",
    "\n",
    "test_data = se.read.option(\"mode\", \"DROPMALFORMED\").option('sep', '\\t').csv(\"/user/hw2/data/testSearchStream.tsv\", header=True, inferSchema=True)\n",
    "test_data.printSchema()\n",
    "\n",
    "test_data.write.parquet(\"/user/hw2/parquet/test_data.parquet\")\n",
    "test_data_parquet = se.read.parquet(\"/user/hw2/parquet/test_data.parquet\")\n",
    "test_data_parquet.printSchema()\n",
    "test_data = test_data_parquet\n",
    "\n",
    "test_data.registerTempTable(\"test_searchstream\")\n",
    "\n",
    "test_searchstreamfeatures = se.sql(\"\"\"\n",
    "    SELECT SearchID as search_id, AdID as f_cat_ad_id, Position as f_num_position, HistCTR as f_num_hist_ctr\n",
    "    FROM test_searchstream\n",
    "\"\"\")\n",
    "test_searchstreamfeatures.registerTempTable(\"test_searchstreamfeatures\")\n",
    "\n",
    "test_bias = test_searchstreamfeatures.select('search_id',\n",
    "                                   F.when(F.col('search_id') == F.col('search_id'), 1).alias('f_bias')).distinct()\n",
    "test_bias.registerTempTable(\"test_bias\")\n",
    "\n",
    "test_dataset_df = test_searchstreamfeatures.join(searchinfofeatures,\n",
    "                                       [\"search_id\"], \"left\")\\\n",
    "            .join(adsinfofeatures, [\"f_cat_ad_id\"], \"left\")\\\n",
    "            .join(test_bias, [\"search_id\"], \"left\")\n",
    "test_dataset_df = test_dataset_df.drop(adsinfofeatures.f_cat_ad_id)\n",
    "\n",
    "assert test_dataset_df.count() == test_searchstreamfeatures.count()\n",
    "# print(f\"Number of rows: {test_dataset_df.count()}\")\n",
    "\n",
    "cols = test_dataset_df.columns\n",
    "\n",
    "test_dataset_df.drop(*non_features_c).write.parquet(\"/user/hw2/parquet/test_dataset.parquet\")\n",
    "test_dataset_fd = se.read.parquet('/user/hw2/parquet/test_dataset.parquet')\n",
    "\n",
    "# print(\"Norm dict\", norm_dict)\n",
    "\n",
    "exps = [\n",
    "    (\n",
    "        (F.col(c) - norm_dict[\"{}_mean\".format(c)]) / (1 + norm_dict[\"{}_dev\".format(c)])\n",
    "    ).alias(c)\n",
    "    for c in f_real_cols\n",
    "]\n",
    "\n",
    "# print(\"First 10 rows of dataset\", test_dataset_fd.select(*f_cat_cols, *exps).limit(10).toPandas())\n",
    "\n",
    "test_dataset_fd.select(*f_cat_cols, *exps).write.parquet(\"/user/hw2/parquet/real_test_df.parquet\")\n",
    "\n",
    "real_test = test_dataset_fd.select(*f_cat_cols, *exps).rdd.map(lambda row : f\"-1\" + \n",
    "         \"\".join([f\" | {cat_col} {getattr(row, cat_col)}\" for cat_col in f_cat_cols if getattr(row, cat_col) != \"\"]) + \n",
    "         \"\".join([f\" | {real_col}:{getattr(row, real_col)}\" for real_col in f_real_cols])).cache()\n",
    "         \n",
    "! hdfs dfs -rm -r /user/vw_real_test_data\n",
    "real_test.saveAsTextFile(\"/user/vw_real_test_data\")"
   ]
  },
  {
   "cell_type": "markdown",
   "id": "9f19838f",
   "metadata": {},
   "source": [
    "# Part 2"
   ]
  },
  {
   "cell_type": "code",
   "execution_count": null,
   "id": "a22a26a5",
   "metadata": {},
   "outputs": [],
   "source": [
    "! sudo wget http://finance.yendor.com/ML/VW/Binaries/vw-8.20190624 -O /usr/bin/vw\n",
    "! sudo chmod +x /usr/bin/vw\n",
    "! sudo chown ubuntu /usr/bin/vw\n",
    "! sudo apt-get update -y && sudo apt-get install graphviz -y\n",
    "! pip install numpy pandas scikit-learn dateparser pandarallel ipywidgets catboost graphviz\n",
    "! /opt/conda/bin/jupyter nbextension enable --py widgetsnbextension"
   ]
  },
  {
   "cell_type": "code",
   "execution_count": 26,
   "id": "b1f7946d",
   "metadata": {},
   "outputs": [
    {
     "name": "stdout",
     "output_type": "stream",
     "text": [
      "Num weight bits = 18\r\n",
      "learning rate = 0.5\r\n",
      "initial_t = 0\r\n",
      "power_t = 0.5\r\n",
      "using no cache\r\n",
      "Reading datafile = \r\n",
      "num sources = 1\r\n",
      "driver:\r\n",
      "  --onethread           Disable parse thread\r\n",
      "VW options:\r\n",
      "  --ring_size arg (=256, ) size of example ring\r\n",
      "  --strict_parse           throw on malformed examples\r\n",
      "Update options:\r\n",
      "  -l [ --learning_rate ] arg Set learning rate\r\n",
      "  --power_t arg              t power value\r\n",
      "  --decay_learning_rate arg  Set Decay factor for learning_rate between passes\r\n",
      "  --initial_t arg            initial t value\r\n"
     ]
    }
   ],
   "source": [
    "# Проверяем, что vw работает\n",
    "! vw --help | head"
   ]
  },
  {
   "cell_type": "code",
   "execution_count": 27,
   "id": "182ce8b9",
   "metadata": {},
   "outputs": [
    {
     "name": "stderr",
     "output_type": "stream",
     "text": [
      "[Stage 7:=============>   (20 + 5) / 25][Stage 8:>                 (0 + 1) / 25]\r"
     ]
    }
   ],
   "source": [
    "# dont have time for whole dataset, sorryy (\n",
    "# ! hdfs dfs -cat /user/vw_test_data/* > test.vw\n",
    "! hdfs dfs -cat /user/vw_train_data/part-00000 > train.vw"
   ]
  },
  {
   "cell_type": "code",
   "execution_count": 36,
   "id": "b67148b2",
   "metadata": {},
   "outputs": [
    {
     "name": "stderr",
     "output_type": "stream",
     "text": [
      "[Stage 7:==>(23 + 2) / 25][Stage 8:=> (11 + 4) / 25][Stage 9:>   (0 + 0) / 25]\r"
     ]
    }
   ],
   "source": [
    "! hdfs dfs -cat /user/vw_test_data/part-00000 > test.vw"
   ]
  },
  {
   "cell_type": "code",
   "execution_count": 28,
   "id": "9502fa59",
   "metadata": {},
   "outputs": [
    {
     "name": "stdout",
     "output_type": "stream",
     "text": [
      "final_regressor = clicks.model.bin\n",
      "Num weight bits = 23\n",
      "learning rate = 20\n",
      "initial_t = 0\n",
      "power_t = 0.5\n",
      "decay_learning_rate = 1\n",
      "creating cache_file = train.vw.cache\n",
      "Reading datafile = train.vw\n",
      "num sources = 1\n",
      "average  since         example        example  current  current  current\n",
      "loss     last          counter         weight    label  predict features\n",
      "0.693147 0.693147            1            1.0  -1.0000   0.0000       22\n",
      "0.420946 0.148745            2            2.0  -1.0000  -1.8302       20\n",
      "0.211014 0.001083            4            4.0  -1.0000  -6.6177       20\n",
      "0.105840 0.000666            8            8.0  -1.0000  -7.3022       20\n",
      "0.053190 0.000539           16           16.0  -1.0000  -7.5376       20\n",
      "0.026823 0.000455           32           32.0  -1.0000  -7.4487       20\n",
      "0.013898 0.000974           64           64.0  -1.0000  -8.5800       20\n",
      "0.007161 0.000423          128          128.0  -1.0000 -12.9176       20\n",
      "0.003589 0.000018          256          256.0  -1.0000 -13.7954       23\n",
      "0.001795 0.000001          512          512.0  -1.0000 -15.2038       23\n",
      "0.000898 0.000000         1024         1024.0  -1.0000 -16.1428       23\n",
      "0.000449 0.000000         2048         2048.0  -1.0000 -16.7570       23\n",
      "0.000241 0.000034         4096         4096.0  -1.0000 -18.1085       20\n",
      "0.000121 0.000001         8192         8192.0  -1.0000 -18.1905       19\n",
      "0.000063 0.000006        16384        16384.0  -1.0000 -19.4334       22\n",
      "0.000032 0.000000        32768        32768.0  -1.0000 -18.6768       22\n",
      "0.000016 0.000000        65536        65536.0  -1.0000 -24.0459       20\n",
      "0.000008 0.000000       131072       131072.0  -1.0000 -16.6864       20\n",
      "0.000004 0.000000       262144       262144.0  -1.0000 -18.6470       20\n",
      "0.000002 0.000000       524288       524288.0  -1.0000 -22.8351       23\n",
      "0.000001 0.000000      1048576      1048576.0  -1.0000 -25.0928       20\n",
      "0.000001 0.000000      2097152      2097152.0  -1.0000 -30.5347       20\n"
     ]
    },
    {
     "name": "stderr",
     "output_type": "stream",
     "text": [
      "[Stage 7:=============>   (20 + 5) / 25][Stage 8:>                 (1 + 1) / 25]\r"
     ]
    },
    {
     "name": "stdout",
     "output_type": "stream",
     "text": [
      "0.000000 0.000000      4194304      4194304.0  -1.0000 -15.7833       11\n",
      "0.000018 0.000018      8388608      8388608.0  -1.0000 -21.3361       23 h\n",
      "0.000123 0.000228     16777216     16777216.0  -1.0000 -17.1289       24 h\n",
      "\n",
      "finished run\n",
      "number of examples per pass = 5488368\n",
      "passes used = 4\n",
      "weighted example sum = 21953472.000000\n",
      "weighted label sum = -21689128.000000\n",
      "average loss = 0.000027 h\n",
      "best constant = -5.106538\n",
      "best constant's loss = 0.036783\n",
      "total feature number = 391510608\n"
     ]
    }
   ],
   "source": [
    "! vw --final_regressor clicks.model.bin \\\n",
    "    -d train.vw \\\n",
    "    --loss_function logistic \\\n",
    "    --learning_rate 20.0 \\\n",
    "    --bit_precision 23 \\\n",
    "    --passes 5 \\\n",
    "    --cache -k"
   ]
  },
  {
   "cell_type": "code",
   "execution_count": 37,
   "id": "650ef91e",
   "metadata": {},
   "outputs": [
    {
     "name": "stdout",
     "output_type": "stream",
     "text": [
      "only testing\n",
      "predictions = clicks_bin.predictions.txt\n",
      "Num weight bits = 23\n",
      "learning rate = 0.5\n",
      "initial_t = 0\n",
      "power_t = 0.5\n",
      "using no cache\n",
      "Reading datafile = test.vw\n",
      "num sources = 1\n",
      "average  since         example        example  current  current  current\n",
      "loss     last          counter         weight    label  predict features\n",
      "1.000000 1.000000            1            1.0  -1.0000   1.0000       22\n",
      "1.000000 1.000000            2            2.0  -1.0000   1.0000       20\n",
      "1.000000 1.000000            4            4.0  -1.0000   1.0000       20\n",
      "1.000000 1.000000            8            8.0  -1.0000   1.0000       20\n",
      "1.000000 1.000000           16           16.0  -1.0000   1.0000       20\n",
      "1.000000 1.000000           32           32.0  -1.0000   1.0000       20\n",
      "1.000000 1.000000           64           64.0  -1.0000   1.0000       22\n",
      "1.000000 1.000000          128          128.0  -1.0000   1.0000       19\n",
      "1.000000 1.000000          256          256.0  -1.0000   1.0000       23\n",
      "1.000000 1.000000          512          512.0  -1.0000   1.0000       23\n",
      "1.000000 1.000000         1024         1024.0  -1.0000   1.0000       23\n",
      "1.000000 1.000000         2048         2048.0  -1.0000   1.0000       23\n",
      "1.000000 1.000000         4096         4096.0  -1.0000   1.0000       18\n",
      "1.000000 1.000000         8192         8192.0  -1.0000   1.0000       24\n",
      "1.000000 1.000000        16384        16384.0  -1.0000   1.0000       23\n",
      "1.000000 1.000000        32768        32768.0  -1.0000   1.0000       20\n",
      "1.000000 1.000000        65536        65536.0  -1.0000   1.0000       22\n",
      "0.999969 0.999939       131072       131072.0  -1.0000   1.0000       17\n",
      "0.999985 1.000000       262144       262144.0  -1.0000   1.0000       24\n",
      "0.999992 1.000000       524288       524288.0  -1.0000   1.0000       22\n",
      "0.999996 1.000000      1048576      1048576.0  -1.0000   1.0000       24\n"
     ]
    },
    {
     "name": "stderr",
     "output_type": "stream",
     "text": [
      "[Stage 7:==>(23 + 2) / 25][Stage 8:=> (13 + 4) / 25][Stage 9:>   (0 + 0) / 25]\r"
     ]
    },
    {
     "name": "stdout",
     "output_type": "stream",
     "text": [
      "0.999998 1.000000      2097152      2097152.0  -1.0000   1.0000       18\n",
      "0.999998 0.999999      4194304      4194304.0  -1.0000   1.0000       13\n",
      "\n",
      "finished run\n",
      "number of examples = 6098186\n",
      "weighted example sum = 6098186.000000\n",
      "weighted label sum = -6024758.000000\n",
      "average loss = 0.993978\n",
      "best constant = -0.987959\n",
      "best constant's loss = 0.023937\n",
      "total feature number = 108753043\n"
     ]
    }
   ],
   "source": [
    "! vw --binary --testonly --initial_regressor clicks.model.bin --predictions clicks_bin.predictions.txt test.vw"
   ]
  }
 ],
 "metadata": {
  "kernelspec": {
   "display_name": "Python 3 (ipykernel)",
   "language": "python",
   "name": "python3"
  },
  "language_info": {
   "codemirror_mode": {
    "name": "ipython",
    "version": 3
   },
   "file_extension": ".py",
   "mimetype": "text/x-python",
   "name": "python",
   "nbconvert_exporter": "python",
   "pygments_lexer": "ipython3",
   "version": "3.8.10"
  }
 },
 "nbformat": 4,
 "nbformat_minor": 5
}
